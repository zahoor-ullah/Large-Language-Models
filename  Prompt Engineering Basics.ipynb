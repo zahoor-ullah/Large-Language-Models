{
 "cells": [
  {
   "cell_type": "code",
   "execution_count": 1,
   "id": "fca8ebe1-6585-4c2c-a9d5-32cf8ce690ab",
   "metadata": {},
   "outputs": [],
   "source": [
    "import cohere\n",
    "co = cohere.ClientV2(\"j3dnErL21HLrrwoaSskJsQpmAn2SxRc1JzJWg7yL\") # Get your free API key: https://dashboard.cohere.com/api-keys"
   ]
  },
  {
   "cell_type": "code",
   "execution_count": 2,
   "id": "e4763639-0c53-4a8c-b915-53119b660824",
   "metadata": {},
   "outputs": [],
   "source": [
    "def generate_text(message):\n",
    "    # Generate the response by streaming it\n",
    "    response = co.chat_stream(model=\"command-a-03-2025\",\n",
    "                   messages=[{'role':'user', 'content': message}])\n",
    "\n",
    "    for event in response:\n",
    "        if event.type == \"content-delta\":\n",
    "            print(event.delta.message.content.text, end=\"\")"
   ]
  },
  {
   "cell_type": "code",
   "execution_count": 3,
   "id": "3b5d3eea-1da0-4d7e-8b5a-255b5d7b4182",
   "metadata": {},
   "outputs": [
    {
     "name": "stdout",
     "output_type": "stream",
     "text": [
      "**Wireless Earbuds: Seamless Audio, Unmatched Freedom**  \n",
      "Experience crystal-clear sound and ultimate convenience with our wireless earbuds. Featuring advanced Bluetooth connectivity, ergonomic design, and long-lasting battery life, they deliver immersive audio for calls, music, and more. Sweat-resistant and compact, they’re perfect for workouts, travel, or everyday use. Stay connected, hands-free, and in style.**Hook:**  \n",
      "Tired of tangled wires and limited mobility? Experience true freedom with our cutting-edge wireless earbuds.  \n",
      "\n",
      "**Solution:**  \n",
      "Our wireless earbuds are designed to seamlessly integrate into your lifestyle, offering crystal-clear sound and unparalleled convenience for work, workouts, or relaxation.  \n",
      "\n",
      "**Features and Benefits:**  \n",
      "- **True Wireless Technology:** No more cords, just pure freedom of movement.  \n",
      "- **Crystal-Clear Audio:** Premium drivers deliver rich, immersive sound.  \n",
      "- **Long Battery Life:** Enjoy up to 24 hours of playtime with the charging case.  \n",
      "- **Comfortable Fit:** Ergonomic design ensures all-day comfort.  \n",
      "- **Water-Resistant:** Perfect for workouts and outdoor activities.  \n",
      "- **Instant Pairing:** Quick and hassle-free connectivity with your devices.  \n",
      "\n",
      "**Call to Action:**  \n",
      "Upgrade your listening experience today! Click “Buy Now” and enjoy the ultimate in wireless audio convenience."
     ]
    }
   ],
   "source": [
    "# How to Write a Basic Prompt\n",
    "generate_text(\"Generate a concise product description for the product: wireless earbuds.\")\n",
    "\n",
    "\n",
    "# How to Layer Additional Instructions\n",
    "generate_text(\"\"\"\n",
    "    Generate a concise product description for the product: wireless earbuds. \n",
    "    Use the following format: Hook, Solution, Features and Benefits, Call to Action.\n",
    "    \"\"\")\n"
   ]
  },
  {
   "cell_type": "markdown",
   "id": "71e38576-0170-48c8-803e-02be94d0cbaa",
   "metadata": {},
   "source": [
    "### **How to Add Context to a Prompt**"
   ]
  },
  {
   "cell_type": "code",
   "execution_count": 4,
   "id": "33e011ce-f98f-4ab9-8d7b-5f79fce8696e",
   "metadata": {},
   "outputs": [
    {
     "name": "stdout",
     "output_type": "stream",
     "text": [
      "The email expresses gratitude to the team for their hard work and dedication in organizing a successful community meetup, acknowledging their efforts, support, and contributions, and looks forward to future collaborations."
     ]
    }
   ],
   "source": [
    "generate_text(\"\"\"\n",
    "    Summarize this email in one sentence.\n",
    "    Dear [Team Members],\n",
    "    I am writing to thank you for your hard work and dedication in organizing our recent community meetup. The event was a great success and it would not have been possible without your efforts.\n",
    "    I am especially grateful for the time and energy you have invested in making this event a reality. Your commitment to ensuring that everything ran smoothly and that our guests had a great time is greatly appreciated.\n",
    "    I am also thankful for the support and guidance you have provided to me throughout the planning process. Your insights and ideas have been invaluable in ensuring that the event was a success.\n",
    "    I am confident that our community will benefit greatly from this event and I am excited to see the positive impact it will have.\n",
    "    Thank you again for your hard work and dedication. I am looking forward to working with you on future events.\n",
    "    Sincerely,\n",
    "    [Your Name]\n",
    "    \"\"\")\n"
   ]
  },
  {
   "cell_type": "code",
   "execution_count": 5,
   "id": "0c8f2b65-c538-4088-96d6-b85344d1203d",
   "metadata": {},
   "outputs": [
    {
     "name": "stdout",
     "output_type": "stream",
     "text": [
      "The movie title extracted from the text is **\"Deadpool 2\"**."
     ]
    }
   ],
   "source": [
    "generate_text(\"\"\"\n",
    "    Extract the movie title from the text below.\n",
    "    Deadpool 2 | Official HD Deadpool's \"Wet on Wet\" Teaser | 2018\n",
    "    \"\"\")"
   ]
  },
  {
   "cell_type": "code",
   "execution_count": 6,
   "id": "d05ab492-6eba-4025-81be-57c1a6504de0",
   "metadata": {},
   "outputs": [
    {
     "name": "stdout",
     "output_type": "stream",
     "text": [
      "Here’s a list of potential frequently asked questions (FAQ) based on the provided text, along with their answers:\n",
      "\n",
      "---\n",
      "\n",
      "### **1. What is the Cohere Platform?**  \n",
      "**Answer:** The Cohere Platform is an API-based service that provides developers and organizations access to cutting-edge Large Language Models (LLMs) without requiring machine learning expertise. It handles complexities like data curation, model development, training, and serving, allowing developers to focus on creating value through applications.\n",
      "\n",
      "---\n",
      "\n",
      "### **2. What are the key language processing capabilities offered by the Cohere Platform?**  \n",
      "**Answer:** The Cohere Platform offers two main capabilities:  \n",
      "1. **Text Generation**: Generates text based on a given prompt.  \n",
      "2. **Text Embedding**: Converts text into a list of numbers representing its semantic meaning, useful for tasks like sentiment analysis.\n",
      "\n",
      "---\n",
      "\n",
      "### **3. What is text generation, and how does it work?**  \n",
      "**Answer:** Text generation involves entering a piece of text (prompt) and receiving a stream of text as a completion. For example, if you prompt the model to write a haiku, it will generate an original haiku as the completion.\n",
      "\n",
      "---\n",
      "\n",
      "### **4. What is text embedding, and what is it used for?**  \n",
      "**Answer:** Text embedding converts a piece of text into a list of numbers that represent its semantic meaning. This is useful for tasks that involve \"measuring\" the meaning of text, such as sentiment analysis, clustering similar texts, or searching for semantically related content.\n",
      "\n",
      "---\n",
      "\n",
      "### **5. What does \"semantic meaning\" mean in the context of text embedding?**  \n",
      "**Answer:** Semantic meaning refers to the underlying meaning or essence of a piece of text. Text embeddings capture this meaning in a numerical form, allowing machines to understand and compare texts based on their content rather than just their structure or keywords.\n",
      "\n",
      "---\n",
      "\n",
      "### **6. Do I need machine learning expertise to use the Cohere Platform?**  \n",
      "**Answer:** No, the Cohere Platform is designed to abstract away the complexities of machine learning. Developers can use the API without needing to understand the underlying model development, training, or serving processes.\n",
      "\n",
      "---\n",
      "\n",
      "### **7. What are some practical use cases for the Cohere Platform?**  \n",
      "**Answer:** Practical use cases include:  \n",
      "- Generating creative content (e.g., poetry, stories).  \n",
      "- Analyzing sentiment or meaning in text.  \n",
      "- Building semantic search engines.  \n",
      "- Clustering or categorizing text data.  \n",
      "- Enhancing chatbots or virtual assistants.\n",
      "\n",
      "---\n",
      "\n",
      "### **8. How does the Cohere Platform handle large-scale text data?**  \n",
      "**Answer:** The Cohere Platform manages the complexities of curating and processing massive amounts of text data, ensuring that developers can leverage high-quality models without dealing with data-related challenges.\n",
      "\n",
      "---\n",
      "\n",
      "### **9. What types of models are used for text generation and text embedding?**  \n",
      "**Answer:** The Cohere Platform uses different types of models for each capability:  \n",
      "- **Text Generation**: Models designed to produce coherent and contextually relevant text.  \n",
      "- **Text Embedding**: Models specialized in capturing the semantic meaning of text in numerical form.\n",
      "\n",
      "---\n",
      "\n",
      "### **10. Can I use the Cohere Platform for both creative and analytical tasks?**  \n",
      "**Answer:** Yes, the Cohere Platform supports both creative tasks (e.g., generating text like haikus) and analytical tasks (e.g., sentiment analysis or semantic search) through its text generation and text embedding capabilities.\n",
      "\n",
      "---\n",
      "\n",
      "### **11. How does the Cohere Platform save time for developers?**  \n",
      "**Answer:** By handling tasks like model development, training, and serving, the Cohere Platform allows developers to focus on building applications and creating value rather than spending time on capability-building efforts.\n",
      "\n",
      "---\n",
      "\n",
      "### **12. Is the Cohere Platform suitable for organizations without a dedicated machine learning team?**  \n",
      "**Answer:** Yes, the Cohere Platform is ideal for organizations without machine learning expertise, as it provides access to advanced LLMs through a simple API, eliminating the need for in-house ML capabilities.\n",
      "\n",
      "---\n",
      "\n",
      "This FAQ list addresses common questions based on the provided text and highlights the key features and benefits of the Cohere Platform."
     ]
    }
   ],
   "source": [
    "generate_text(\"\"\"\n",
    "    Given the following text, write down a list of potential frequently asked questions (FAQ), together with the answers.\n",
    "    The Cohere Platform provides an API for developers and organizations to access cutting-edge LLMs without needing machine learning know-how. \n",
    "    The platform handles all the complexities of curating massive amounts of text data, model development, distributed training, model serving, and more. \n",
    "    This means that developers can focus on creating value on the applied side rather than spending time and effort on the capability-building side.\n",
    "    \n",
    "    There are two key types of language processing capabilities that the Cohere Platform provides — text generation and text embedding — and each is served by a different type of model.\n",
    "    \n",
    "    With text generation, we enter a piece of text, or prompt, and get back a stream of text as a completion to the prompt. \n",
    "    One example is asking the model to write a haiku (the prompt) and getting an originally written haiku in return (the completion).\n",
    "    \n",
    "    With text embedding, we enter a piece of text and get back a list of numbers that represents its semantic meaning (we’ll see what “semantic” means in a section below). \n",
    "    This is useful for use cases that involve “measuring” what a passage of text represents, for example, in analyzing its sentiment.\n",
    "    \"\"\")"
   ]
  },
  {
   "cell_type": "code",
   "execution_count": null,
   "id": "52ec4298-50e6-4e38-8ede-7931e1645a35",
   "metadata": {},
   "outputs": [],
   "source": []
  }
 ],
 "metadata": {
  "kernelspec": {
   "display_name": "Python 3 (ipykernel)",
   "language": "python",
   "name": "python3"
  },
  "language_info": {
   "codemirror_mode": {
    "name": "ipython",
    "version": 3
   },
   "file_extension": ".py",
   "mimetype": "text/x-python",
   "name": "python",
   "nbconvert_exporter": "python",
   "pygments_lexer": "ipython3",
   "version": "3.10.18"
  }
 },
 "nbformat": 4,
 "nbformat_minor": 5
}
