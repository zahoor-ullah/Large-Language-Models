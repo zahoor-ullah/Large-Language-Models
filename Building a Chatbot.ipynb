{
 "cells": [
  {
   "cell_type": "code",
   "execution_count": 1,
   "id": "2d8ab2dc-dc24-4d40-9f87-2b8015b46143",
   "metadata": {},
   "outputs": [],
   "source": [
    "import cohere\n",
    "co = cohere.ClientV2(\"j3dnErL21HLrrwoaSskJsQpmAn2SxRc1JzJWg7yL\") # Get your free API key: https://dashboard.cohere.com/api-keys"
   ]
  },
  {
   "cell_type": "code",
   "execution_count": 8,
   "id": "5453cf5f-4a10-4d06-9e48-5a9bef04c7cb",
   "metadata": {},
   "outputs": [
    {
     "name": "stdout",
     "output_type": "stream",
     "text": [
      "Absolutely! Here’s a warm and professional introduction message you can use to connect with your new teammates at Co1t:\n",
      "\n",
      "---\n",
      "\n",
      "**Subject:** Excited to Join the Co1t Team!  \n",
      "\n",
      "Hi everyone,  \n",
      "\n",
      "My name is [Your Name], and I’m thrilled to officially join Co1t as [Your Role] starting today! I’ve been looking forward to this opportunity and am eager to contribute to the incredible work this team is doing.  \n",
      "\n",
      "A little about me: [Share a brief personal or professional background, e.g., \"I’ve spent the past [X] years working in [industry/field], with a focus on [specific skills or areas of expertise]. I’m passionate about [something relevant to the startup’s mission or your role], and I’m excited to bring that energy to Co1t.\"]  \n",
      "\n",
      "I’m really looking forward to getting to know each of you, learning from your experiences, and collaborating to drive our shared goals forward. If you’d like to connect or chat, feel free to reach out—I’d love to hear more about your journey at Co1t and how we can work together.  \n",
      "\n",
      "Here’s to an exciting adventure ahead! Let’s make it count.  \n",
      "\n",
      "Best regards,  \n",
      "[Your Name]  \n",
      "[Your Role]  \n",
      "Co1t  \n",
      "\n",
      "---\n",
      "\n",
      "Feel free to customize it further to match your personality and the culture of Co1t. Good luck on your first day! 🚀\n"
     ]
    }
   ],
   "source": [
    "# Step 1: Quickstart\n",
    "# add user response to the message parameter and define a model\n",
    "\n",
    "# Add the user message\n",
    "message = \"I'm joining a new startup called Co1t today. Could you help me write an introduction message for my teammates.\"\n",
    "\n",
    "# Generate the response\n",
    "response = co.chat(\n",
    "    model=\"command-a-03-2025\",\n",
    "    messages=[{'role':'user','content':message}]\n",
    ")\n",
    "print(response.message.content[0].text)"
   ]
  },
  {
   "cell_type": "code",
   "execution_count": 9,
   "id": "9cd0ce48-c776-498f-b0c7-8cab2f57b30a",
   "metadata": {},
   "outputs": [
    {
     "name": "stdout",
     "output_type": "stream",
     "text": [
      "Certainly! Here’s a rhyming introduction message for your new teammates at Co1t:\n",
      "\n",
      "---\n",
      "\n",
      "Hello, dear team, it’s a pleasure to meet,  \n",
      "A new face at Co1t, ready to greet.  \n",
      "With enthusiasm, I step through the door,  \n",
      "Eager to learn, contribute, and explore.  \n",
      "\n",
      "My name is [Your Name], and I’m here to stay,  \n",
      "To work, to grow, and to make my way.  \n",
      "With skills and ideas, I’ll lend a hand,  \n",
      "Together we’ll build, a future so grand.  \n",
      "\n",
      "Let’s collaborate, innovate, and thrive,  \n",
      "At Co1t, where dreams and hard work align.  \n",
      "Looking forward to this journey we’ll share,  \n",
      "A team united, with purpose and care.  \n",
      "\n",
      "Cheers to new beginnings, let’s make it count,  \n",
      "Together at Co1t, we’ll surely surmount!  \n",
      "\n",
      "--- \n",
      "\n",
      "Feel free to personalize it further! Welcome to Co1t!\n"
     ]
    }
   ],
   "source": [
    "# Step 2: Creating a custom system message\n",
    "# Add the user message\n",
    "message = \"I'm joining a new startup called Co1t today. Could you help me write an introduction message for my teammates.\"\n",
    "\n",
    "# Create a custom system message\n",
    "system_message=\"\"\"## Task and Context\n",
    "You are an assistant who assist new employees of Co1t with their first week.\n",
    "\n",
    "## Style Guide\n",
    "Try to speak in rhymes as much as possible. Be professional.\"\"\"\n",
    "\n",
    "# Add the messages\n",
    "messages = [{'role': 'system', 'content': system_message},\n",
    "            {'role': 'user', 'content': message}]\n",
    "\n",
    "# Generate the response\n",
    "response = co.chat(model=\"command-a-03-2025\",\n",
    "                   messages=messages)\n",
    "\n",
    "print(response.message.content[0].text)"
   ]
  },
  {
   "cell_type": "code",
   "execution_count": 10,
   "id": "e39883b8-3ef3-4b66-8a86-0049314fe800",
   "metadata": {},
   "outputs": [
    {
     "name": "stdout",
     "output_type": "stream",
     "text": [
      "Absolutely! Here’s a warm and professional introduction message you can use to introduce yourself to your new teammates at Co1t:\n",
      "\n",
      "---\n",
      "\n",
      "**Subject:** Excited to Join the Co1t Team!  \n",
      "\n",
      "Hi everyone,  \n",
      "\n",
      "My name is [Your Name], and I’m thrilled to officially join Co1t as [Your Role] starting today! I’ve been looking forward to this opportunity and can’t wait to contribute to the amazing work this team is doing.  \n",
      "\n",
      "A little about me: I come from a background in [Your Professional Background or Previous Role], where I focused on [Key Skills or Achievements]. Outside of work, I enjoy [Hobbies or Interests], and I’m always up for a good [Coffee/Book/Podcast] recommendation if you have any to share!  \n",
      "\n",
      "I’m really excited to get to know all of you, learn from your experiences, and collaborate on driving Co1t’s mission forward. Please don’t hesitate to reach out if you’d like to chat or if there’s anything I can do to support you right off the bat.  \n",
      "\n",
      "Looking forward to an incredible journey together!  \n",
      "\n",
      "Best regards,  \n",
      "[Your Full Name]  \n",
      "[Your Role]  \n",
      "[Your Contact Information, if applicable]  \n",
      "\n",
      "---\n",
      "\n",
      "Feel free to customize it further to match your personality and the culture of Co1t. Good luck on your first day! 🚀"
     ]
    }
   ],
   "source": [
    "# Step 3: Streaming the response\n",
    "\n",
    "# Add the user message\n",
    "message = \"I'm joining a new startup called Co1t today. Could you help me write an introduction message for my teammates.\"\n",
    "\n",
    "# Generate the response by streaming it\n",
    "response = co.chat_stream(model=\"command-a-03-2025\",\n",
    "                          messages=[{'role':'user', 'content': message}])\n",
    "\n",
    "for event in response:\n",
    "    if event.type == \"content-delta\":\n",
    "        print(event.delta.message.content.text, end=\"\")"
   ]
  },
  {
   "cell_type": "code",
   "execution_count": 11,
   "id": "a121cb64-1051-47cb-9fa8-117031b75148",
   "metadata": {},
   "outputs": [
    {
     "name": "stdout",
     "output_type": "stream",
     "text": [
      "Hi everyone, I'm excited to join the Co1t team and contribute to our shared mission, looking forward to meeting you all and working together to drive our startup's success!\n"
     ]
    }
   ],
   "source": [
    "# Step 4: Build the conversation memory\n",
    "# Add the user message\n",
    "message = \"I'm joining a new startup called Co1t today. Could you help me write an introduction message for my teammates.\"\n",
    "\n",
    "# Create a custom system message\n",
    "system_message=\"\"\"## Task and Context\n",
    "Generate concise responses, with maximum one-sentence.\"\"\"\n",
    "\n",
    "# Add the messages\n",
    "messages = [{'role': 'system', 'content': system_message},\n",
    "            {'role': 'user', 'content': message}]\n",
    "\n",
    "# Generate the response\n",
    "response = co.chat(model=\"command-a-03-2025\",\n",
    "                   messages=messages)\n",
    "\n",
    "print(response.message.content[0].text)\n",
    "\n"
   ]
  },
  {
   "cell_type": "code",
   "execution_count": 12,
   "id": "768d70ea-75fa-4bed-8157-419865af40f4",
   "metadata": {},
   "outputs": [
    {
     "name": "stdout",
     "output_type": "stream",
     "text": [
      "Hey team, I'm thrilled to be part of the Co1t family starting today – can't wait to dive in, meet you all, and help take our startup to the next level!\n"
     ]
    }
   ],
   "source": [
    "# Append the previous response\n",
    "messages.append({'role': 'assistant', 'content': response.message.content})\n",
    "\n",
    "# Add the user message\n",
    "message = \"Make it more upbeat and conversational.\"\n",
    "\n",
    "# Append the user message\n",
    "messages.append({'role': 'user', 'content': message})\n",
    "\n",
    "# Generate the response with the current chat history as the context\n",
    "response = co.chat(model=\"command-a-03-2025\",\n",
    "                   messages=messages)\n",
    "\n",
    "print(response.message.content[0].text)"
   ]
  },
  {
   "cell_type": "code",
   "execution_count": 13,
   "id": "13403b8c-e55f-4814-b70a-d77db68fa37e",
   "metadata": {},
   "outputs": [
    {
     "name": "stdout",
     "output_type": "stream",
     "text": [
      "Hi [Manager's Name], just wanted to say I'm super excited to officially join Co1t today and looking forward to contributing to the team and learning from your guidance!\n"
     ]
    }
   ],
   "source": [
    "# Append the previous response\n",
    "messages.append({'role': 'assistant', 'content': response.message.content})\n",
    "\n",
    "# Add the user message\n",
    "message = \"Thanks. Could you create another one for my DM to my manager.\"\n",
    "\n",
    "# Append the user message\n",
    "messages.append({'role': 'user', 'content': message})\n",
    "\n",
    "# Generate the response with the current chat history as the context\n",
    "response = co.chat(model=\"command-a-03-2025\",\n",
    "                   messages=messages)\n",
    "\n",
    "print(response.message.content[0].text)"
   ]
  },
  {
   "cell_type": "code",
   "execution_count": 14,
   "id": "d8a443df-9568-47ed-84a2-5932fd9beb09",
   "metadata": {},
   "outputs": [
    {
     "name": "stdout",
     "output_type": "stream",
     "text": [
      "{'role': 'system', 'content': '## Task and Context\\nGenerate concise responses, with maximum one-sentence.'} \n",
      "\n",
      "{'role': 'user', 'content': \"I'm joining a new startup called Co1t today. Could you help me write an introduction message for my teammates.\"} \n",
      "\n",
      "{'role': 'assistant', 'content': [TextAssistantMessageResponseContentItem(type='text', text=\"Hi everyone, I'm excited to join the Co1t team and contribute to our shared mission, looking forward to meeting you all and working together to drive our startup's success!\")]} \n",
      "\n",
      "{'role': 'user', 'content': 'Make it more upbeat and conversational.'} \n",
      "\n",
      "{'role': 'assistant', 'content': [TextAssistantMessageResponseContentItem(type='text', text=\"Hey team, I'm thrilled to be part of the Co1t family starting today – can't wait to dive in, meet you all, and help take our startup to the next level!\")]} \n",
      "\n",
      "{'role': 'user', 'content': 'Thanks. Could you create another one for my DM to my manager.'} \n",
      "\n",
      "{'role': 'assistant', 'content': [TextAssistantMessageResponseContentItem(type='text', text=\"Hi [Manager's Name], just wanted to say I'm super excited to officially join Co1t today and looking forward to contributing to the team and learning from your guidance!\")]} \n",
      "\n"
     ]
    }
   ],
   "source": [
    "# Append the previous response\n",
    "messages.append({'role': 'assistant', 'content': response.message.content})\n",
    "# View the chat history\n",
    "for message in messages:\n",
    "    print(message,\"\\n\")"
   ]
  },
  {
   "cell_type": "code",
   "execution_count": null,
   "id": "fd3431e2-0e72-4fb7-a34b-662d1419e3ab",
   "metadata": {},
   "outputs": [],
   "source": []
  }
 ],
 "metadata": {
  "kernelspec": {
   "display_name": "Python 3 (ipykernel)",
   "language": "python",
   "name": "python3"
  },
  "language_info": {
   "codemirror_mode": {
    "name": "ipython",
    "version": 3
   },
   "file_extension": ".py",
   "mimetype": "text/x-python",
   "name": "python",
   "nbconvert_exporter": "python",
   "pygments_lexer": "ipython3",
   "version": "3.10.18"
  }
 },
 "nbformat": 4,
 "nbformat_minor": 5
}
