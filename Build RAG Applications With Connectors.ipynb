{
 "cells": [
  {
   "cell_type": "code",
   "execution_count": 1,
   "id": "b63e7b4d-3701-452a-bbd2-b51f8661fe5e",
   "metadata": {},
   "outputs": [],
   "source": [
    "import uuid\n",
    "import cohere\n",
    "from cohere import ChatConnector\n",
    "from typing import List\n",
    "\n",
    "co = cohere.Client(\"j3dnErL21HLrrwoaSskJsQpmAn2SxRc1JzJWg7yL\")"
   ]
  },
  {
   "cell_type": "code",
   "execution_count": 2,
   "id": "22b24632-c293-49d1-9fed-770377976d6d",
   "metadata": {},
   "outputs": [],
   "source": [
    "# Create the Chatbot Component\n",
    "response = co.chat_stream( message = \"What is LLM University\",\n",
    "                           connectors = [ChatConnector(id=\"web-search\")]\n",
    "    \n",
    ")"
   ]
  },
  {
   "cell_type": "code",
   "execution_count": 3,
   "id": "9df1843f-c9a2-4992-ac3e-e4d3fd3b6307",
   "metadata": {},
   "outputs": [],
   "source": [
    "class Chatbot:\n",
    "    def __init__(self, connectors: List[str]):\n",
    "        \"\"\"\n",
    "        Initializes an instance of the Chatbot class.\n",
    "\n",
    "        \"\"\"\n",
    "        self.conversation_id = str(uuid.uuid4())\n",
    "        self.connectors = [ChatConnector(id=connector) for connector in connectors]\n",
    "\n",
    "    def run(self):\n",
    "        \"\"\"\n",
    "        Runs the chatbot application.\n",
    "\n",
    "        \"\"\"\n",
    "        while True:\n",
    "            # Get the user message\n",
    "            message = input(\"User: \")\n",
    "\n",
    "            # Typing \"quit\" ends the conversation\n",
    "            if message.lower() == \"quit\":\n",
    "                print(\"Ending chat.\")\n",
    "                break\n",
    "            else:                       # If using Google Colab, remove this line to avoid printing the same thing twice\n",
    "              print(f\"User: {message}\") # If using Google Colab, remove this line to avoid printing the same thing twice\n",
    "\n",
    "            # Generate response\n",
    "            response = co.chat_stream(\n",
    "                    message=message,\n",
    "                    model=\"command-a-03-2025\",\n",
    "                    conversation_id=self.conversation_id,\n",
    "                    connectors=self.connectors,\n",
    "            )\n",
    "\n",
    "            # Print the chatbot response, citations, and documents\n",
    "            print(\"\\nChatbot:\")\n",
    "            citations = []\n",
    "            cited_documents = []\n",
    "\n",
    "            # Display response\n",
    "            for event in response:\n",
    "                if event.event_type == \"text-generation\":\n",
    "                    print(event.text, end=\"\")\n",
    "                elif event.event_type == \"citation-generation\":\n",
    "                    citations.extend(event.citations)\n",
    "                elif event.event_type == \"stream-end\":\n",
    "                    cited_documents = event.response.documents\n",
    "\n",
    "            # Display citations and source documents\n",
    "            if citations:\n",
    "              print(\"\\n\\nCITATIONS:\")\n",
    "              for citation in citations:\n",
    "                print(citation)\n",
    "\n",
    "              print(\"\\nDOCUMENTS:\")\n",
    "              for document in cited_documents:\n",
    "                print({'id': document['id'],\n",
    "                      'snippet': document['snippet'][:400] + '...',\n",
    "                      'title': document['title'],\n",
    "                      'url': document['url']})\n",
    "\n",
    "            print(f\"\\n{'-'*100}\\n\")"
   ]
  },
  {
   "cell_type": "code",
   "execution_count": null,
   "id": "18639af1-8e55-40fa-b393-e9a97a2245a7",
   "metadata": {},
   "outputs": [
    {
     "name": "stdin",
     "output_type": "stream",
     "text": [
      "User:  What is Cohere's LLM University\n"
     ]
    },
    {
     "name": "stdout",
     "output_type": "stream",
     "text": [
      "User: What is Cohere's LLM University\n",
      "\n",
      "Chatbot:\n",
      "Cohere's LLM University is a learning hub designed for developers and technical professionals who want to learn more about NLP and LLMs. It offers comprehensive resources, expert-led courses, and step-by-step guides to help learners build quickly and stay ahead in the rapidly evolving AI landscape. It is also suitable for those who want to transition to a different career in the tech industry or kickstart a new career with LLMs.\n",
      "\n",
      "CITATIONS:\n",
      "start=29 end=41 text='learning hub' document_ids=['internet_search_4_1_0'] type='TEXT_CONTENT'\n",
      "start=55 end=65 text='developers' document_ids=['internet_search_3_1_0', 'internet_search_4_1_0', 'internet_search_1_1_0'] type='TEXT_CONTENT'\n",
      "start=70 end=93 text='technical professionals' document_ids=['internet_search_4_1_0'] type='TEXT_CONTENT'\n",
      "start=106 end=136 text='learn more about NLP and LLMs.' document_ids=['internet_search_3_1_0', 'internet_search_1_1_0'] type='TEXT_CONTENT'\n",
      "start=147 end=170 text='comprehensive resources' document_ids=['internet_search_4_1_0'] type='TEXT_CONTENT'\n",
      "start=172 end=190 text='expert-led courses' document_ids=['internet_search_4_1_0'] type='TEXT_CONTENT'\n",
      "start=196 end=215 text='step-by-step guides' document_ids=['internet_search_4_1_0'] type='TEXT_CONTENT'\n",
      "start=233 end=246 text='build quickly' document_ids=['internet_search_4_1_0'] type='TEXT_CONTENT'\n",
      "start=251 end=299 text='stay ahead in the rapidly evolving AI landscape.' document_ids=['internet_search_4_1_0'] type='TEXT_CONTENT'\n",
      "start=342 end=395 text='transition to a different career in the tech industry' document_ids=['internet_search_1_1_0', 'internet_search_2_1_0'] type='TEXT_CONTENT'\n",
      "start=399 end=432 text='kickstart a new career with LLMs.' document_ids=['internet_search_2_1_0'] type='TEXT_CONTENT'\n",
      "\n",
      "DOCUMENTS:\n",
      "{'id': 'internet_search_4_1_0', 'snippet': 'Welcome to LLM University, your premier learning destination for mastering Enterprise AI technologies. Designed for developers and technical professionals, our hub offers comprehensive resources, expert-led courses, and step-by-step guides to help you start building quickly and stay ahead in the rapidly evolving AI landscape....', 'title': 'LLM University | Cohere', 'url': 'https://cohere.com/llmu'}\n",
      "{'id': 'internet_search_3_1_0', 'snippet': 'Cohere aims to build the future of language AI by empowering developers and enterprises to make products that allow them to capture essential business value with language AI. to live up to this, they have created the LLM University for developers who want to learn more about NLP and LLMs....', 'title': 'Everything You Need About the LLM University by Cohere - KDnuggets', 'url': 'https://www.kdnuggets.com/2023/07/everything-need-llm-university-cohere.html'}\n",
      "{'id': 'internet_search_1_1_0', 'snippet': 'If you want to learn about LLMs to transition to a different career in the tech industry - The LLM University by Cohere can help you with exactly that! We are seeing more and more developers interested in taking their careers with LLMs to the next level. Natural language processing (NLP) is an area that a lot of developers thought they’d not dive into....', 'title': 'Everything You Need About the LLM University by Cohere - KDnuggets', 'url': 'https://www.kdnuggets.com/2023/07/everything-need-llm-university-cohere.html'}\n",
      "{'id': 'internet_search_2_1_0', 'snippet': 'Want to kickstart a new career with LLMs? Or want to transfer to the next big thing in tech? You can do so now with the LLM University by Cohere....', 'title': 'Everything You Need About the LLM University by Cohere - KDnuggets', 'url': 'https://www.kdnuggets.com/2023/07/everything-need-llm-university-cohere.html'}\n",
      "\n",
      "----------------------------------------------------------------------------------------------------\n",
      "\n"
     ]
    },
    {
     "name": "stdin",
     "output_type": "stream",
     "text": [
      "User:  what is google.com\n"
     ]
    },
    {
     "name": "stdout",
     "output_type": "stream",
     "text": [
      "User: what is google.com\n",
      "\n",
      "Chatbot:\n",
      "Google.com is a search engine operated by Google, an American multinational corporation and technology company. It allows users to search for information on the web by entering keywords or phrases. Google Search is the most-visited website in the world and has a 90% share of the global search engine market as of 2025.\n",
      "\n",
      "CITATIONS:\n",
      "start=16 end=29 text='search engine' document_ids=['internet_search_0_1_0:0', 'internet_search_6_1_0:0'] type='TEXT_CONTENT'\n",
      "start=30 end=48 text='operated by Google' document_ids=['internet_search_0_1_0:0'] type='TEXT_CONTENT'\n",
      "start=53 end=87 text='American multinational corporation' document_ids=['internet_search_6_1_0:0'] type='TEXT_CONTENT'\n",
      "start=92 end=111 text='technology company.' document_ids=['internet_search_6_1_0:0'] type='TEXT_CONTENT'\n",
      "start=131 end=164 text='search for information on the web' document_ids=['internet_search_0_1_0:0'] type='TEXT_CONTENT'\n",
      "start=168 end=197 text='entering keywords or phrases.' document_ids=['internet_search_0_1_0:0'] type='TEXT_CONTENT'\n",
      "start=219 end=252 text='most-visited website in the world' document_ids=['internet_search_0_1_0:0'] type='TEXT_CONTENT'\n",
      "start=263 end=319 text='90% share of the global search engine market as of 2025.' document_ids=['internet_search_0_1_0:0'] type='TEXT_CONTENT'\n",
      "\n",
      "DOCUMENTS:\n",
      "{'id': 'internet_search_0_1_0:0', 'snippet': 'Google Search (also known simply as Google or Google.com) is a search engine operated by Google. It allows users to search for information on the Web by entering keywords or phrases. Google Search uses algorithms to analyze and rank websites based on their relevance to the search query. It is the most popular search engine worldwide. Google Search is the most-visited website in the world. As of 20...', 'title': 'Google Search - Wikipedia', 'url': 'https://en.wikipedia.org/wiki/Google_Search'}\n",
      "{'id': 'internet_search_6_1_0:0', 'snippet': 'Google LLC (/ˈɡuːɡəl/ ⓘ, GOO-gəl) is an American multinational corporation and technology company focusing on online advertising, search engine technology, cloud computing, computer software, quantum computing, e-commerce, consumer electronics, and artificial intelligence (AI). It has been referred to as \"the most powerful company in the world\" by the BBC and is one of the world\\'s most valuable br...', 'title': 'Google - Wikipedia', 'url': 'https://en.wikipedia.org/wiki/Google'}\n",
      "\n",
      "----------------------------------------------------------------------------------------------------\n",
      "\n"
     ]
    },
    {
     "name": "stdin",
     "output_type": "stream",
     "text": [
      "User:  do you know about invicttus\n"
     ]
    },
    {
     "name": "stdout",
     "output_type": "stream",
     "text": [
      "User: do you know about invicttus\n",
      "\n",
      "Chatbot:\n",
      "Invicttus appears to be a clothing brand with a Facebook and Instagram presence.\n",
      "\n",
      "CITATIONS:\n",
      "start=26 end=40 text='clothing brand' document_ids=['internet_search_1_1_0'] type='TEXT_CONTENT'\n",
      "start=48 end=56 text='Facebook' document_ids=['internet_search_1_1_0'] type='TEXT_CONTENT'\n",
      "start=61 end=70 text='Instagram' document_ids=['internet_search_0_1_0'] type='TEXT_CONTENT'\n",
      "\n",
      "DOCUMENTS:\n",
      "{'id': 'internet_search_1_1_0', 'snippet': 'Invicttus Collection · Page · Clothing (Brand) Not yet rated (0 Reviews)\\ufeff · See all photos · August 9, 2019 ·...', 'title': 'Invicttus Collection | Facebook', 'url': 'https://www.facebook.com/Invicttuscollection/'}\n",
      "{'id': 'internet_search_0_1_0', 'snippet': '114 Followers, 91 Following, 27 Posts - See Instagram photos and videos from Invicttus Company (@invicttuscompany)...', 'title': 'Invicttus Company (@invicttuscompany) • Instagram photos and videos', 'url': 'https://www.instagram.com/invicttuscompany/'}\n",
      "\n",
      "----------------------------------------------------------------------------------------------------\n",
      "\n"
     ]
    }
   ],
   "source": [
    "# Run the Chatbot\n",
    "# Define the connector\n",
    "connectors = [\"web-search\"]\n",
    "# Create an instance of the Chatbot class\n",
    "chatbot = Chatbot(connectors)\n",
    "\n",
    "# Run the chatbot\n",
    "chatbot.run()"
   ]
  },
  {
   "cell_type": "markdown",
   "id": "135108a3-49d4-4744-87ee-26192ef277f9",
   "metadata": {},
   "source": [
    "### **Build RAG Applications With Quickstart Connectors**"
   ]
  },
  {
   "cell_type": "code",
   "execution_count": null,
   "id": "014440bf-63ae-4d7e-979f-2168f54352a2",
   "metadata": {},
   "outputs": [],
   "source": []
  }
 ],
 "metadata": {
  "kernelspec": {
   "display_name": "Python 3 (ipykernel)",
   "language": "python",
   "name": "python3"
  },
  "language_info": {
   "codemirror_mode": {
    "name": "ipython",
    "version": 3
   },
   "file_extension": ".py",
   "mimetype": "text/x-python",
   "name": "python",
   "nbconvert_exporter": "python",
   "pygments_lexer": "ipython3",
   "version": "3.10.18"
  }
 },
 "nbformat": 4,
 "nbformat_minor": 5
}
