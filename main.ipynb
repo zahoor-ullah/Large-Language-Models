{
 "cells": [
  {
   "cell_type": "code",
   "execution_count": 1,
   "id": "d89b3724-6c00-4c68-bb87-d88be1820451",
   "metadata": {},
   "outputs": [],
   "source": [
    "import cohere\n",
    "import json\n",
    "from fastapi import FastAPI\n",
    "from pydantic import BaseModel, conlist\n",
    "\n",
    "# Setup the Cohere client\n",
    "co = cohere.ClientV2(\"j3dnErL21HLrrwoaSskJsQpmAn2SxRc1JzJWg7yL\") # Get your free API key: https://dashboard.cohere.com/api-keys\n",
    "\n",
    "# Step 2: Create a Sentiment Classifier\n",
    "def classify_sentiment(product_review):\n",
    "    # Create prompt with examples\n",
    "    prompt = \"\"\"Classify this text into positive, negative, or neutral sentiment. Here are some examples:\n",
    "\n",
    "    Positive examples:\n",
    "    - \"The order came 5 days early\"\n",
    "    - \"The item exceeded my expectations\" \n",
    "    - \"I ordered more for my friends\"\n",
    "    - \"I would buy this again\"\n",
    "    - \"I would recommend this to others\"\n",
    "\n",
    "    Negative examples:\n",
    "    - \"The package was damaged\"\n",
    "    - \"The order is 5 days late\"\n",
    "    - \"The order was incorrect\" \n",
    "    - \"I want to return my item\"\n",
    "    - \"The item's material feels low quality\"\n",
    "\n",
    "    Neutral examples:\n",
    "    - \"The item was nothing special\"\n",
    "    - \"I would not buy this again but it wasn't a waste of money\"\n",
    "    - \"The item was neither amazing or terrible\"\n",
    "    - \"The item was okay\"\n",
    "    - \"I have no emotions towards this item\"\n",
    "\n",
    "    Text to classify:\n",
    "    {}\"\"\"\n",
    "\n",
    "    res = co.chat(\n",
    "        model=\"command-a-03-2025\",\n",
    "        messages=[\n",
    "            {\n",
    "                \"role\": \"user\",\n",
    "                \"content\": prompt.format(product_review)\n",
    "            }\n",
    "        ],\n",
    "        temperature=0.0,\n",
    "        response_format={\n",
    "            \"type\": \"json_object\",\n",
    "            \"schema\": {\n",
    "                \"type\": \"object\",\n",
    "                \"properties\": {\n",
    "                    \"class\": {\n",
    "                        \"type\": \"string\",\n",
    "                        \"enum\": [\"positive\", \"negative\", \"neutral\"]\n",
    "                    }\n",
    "                },\n",
    "                \"required\": [\"class\"]\n",
    "            }\n",
    "        }\n",
    "    )\n",
    "    return json.loads(res.message.content[0].text)[\"class\"]\n",
    "\n",
    "# Step 3: Create a FastAPI Endpoint\n",
    "app = FastAPI()\n",
    "\n",
    "class ProductReviews(BaseModel):\n",
    "    reviews: conlist(str, min_length=1)\n",
    "\n",
    "@app.post(\"/prediction\")\n",
    "def predict_sentiment(product_reviews: ProductReviews):\n",
    "    sentiments = []\n",
    "    for review in product_reviews.reviews:\n",
    "        sentiments.append(classify_sentiment(review))\n",
    "    return sentiments\n",
    "\n",
    "# Step 4: Call the Endpoint\n"
   ]
  },
  {
   "cell_type": "code",
   "execution_count": 3,
   "id": "006f0e49-9a9c-4f0f-988f-ded9355e0343",
   "metadata": {},
   "outputs": [
    {
     "name": "stdout",
     "output_type": "stream",
     "text": [
      "[NbConvertApp] Converting notebook main.ipynb to script\n",
      "[NbConvertApp] Writing 0 bytes to main.txt\n"
     ]
    }
   ],
   "source": [
    "!jupyter nbconvert --to script main.ipynb"
   ]
  },
  {
   "cell_type": "code",
   "execution_count": null,
   "id": "1d82aa9f-1403-4ea3-8241-33d4162f65da",
   "metadata": {},
   "outputs": [],
   "source": []
  },
  {
   "cell_type": "code",
   "execution_count": null,
   "id": "877c90b8-5ad1-46f8-a767-76fd7e438710",
   "metadata": {},
   "outputs": [],
   "source": []
  }
 ],
 "metadata": {
  "kernelspec": {
   "display_name": "Python 3 (ipykernel)",
   "language": "python",
   "name": "python3"
  },
  "language_info": {
   "codemirror_mode": {
    "name": "ipython",
    "version": 3
   },
   "file_extension": ".py",
   "mimetype": "text/x-python",
   "name": "python",
   "nbconvert_exporter": "python",
   "pygments_lexer": "ipython3",
   "version": "3.10.18"
  }
 },
 "nbformat": 4,
 "nbformat_minor": 5
}
