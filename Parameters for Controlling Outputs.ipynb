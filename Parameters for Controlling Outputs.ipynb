{
 "cells": [
  {
   "cell_type": "code",
   "execution_count": 2,
   "id": "79be4591-6646-40a7-979a-f7d05a021e76",
   "metadata": {},
   "outputs": [],
   "source": [
    "import cohere\n",
    "co = cohere.ClientV2(\"j3dnErL21HLrrwoaSskJsQpmAn2SxRc1JzJWg7yL\") # Get your free API key: https://dashboard.cohere.com/api-keys"
   ]
  },
  {
   "cell_type": "code",
   "execution_count": 3,
   "id": "5b7470b3-fd95-4cda-a4a7-bdc947587aee",
   "metadata": {},
   "outputs": [],
   "source": [
    "# Add the user message\n",
    "message = \"Hello.\"\n",
    "\n",
    "# Generate the response\n",
    "response = co.chat(model=\"command-a-03-2025\",\n",
    "                   messages=[{'role':'user', 'content': message}])\n"
   ]
  },
  {
   "cell_type": "code",
   "execution_count": 4,
   "id": "150f2141-e85f-4ca9-bed8-e1c946c91663",
   "metadata": {},
   "outputs": [
    {
     "name": "stdout",
     "output_type": "stream",
     "text": [
      "1: \"Industrial Enthusiast\"\n",
      "\n",
      "2: \"Industrial Enthusiast\"\n",
      "\n",
      "3: \"Industrial Enthusiast\"\n",
      "\n"
     ]
    }
   ],
   "source": [
    "# Add the user message\n",
    "message = \"I like learning about the industrial revolution and how it shapes the modern world. How can I introduce myself in two words.\"\n",
    "\n",
    "# Generate the response multiple times by specifying a low temperature value\n",
    "for idx in range(3):\n",
    "    response = co.chat(model=\"command-a-03-2025\",\n",
    "                       messages=[{'role':'user', 'content': message}],\n",
    "                       temperature=0)\n",
    "\n",
    "    print(f\"{idx+1}: {response.message.content[0].text}\\n\")"
   ]
  },
  {
   "cell_type": "code",
   "execution_count": 5,
   "id": "dfde737a-7e62-4d4d-8d48-b003d90fa72f",
   "metadata": {},
   "outputs": [
    {
     "name": "stdout",
     "output_type": "stream",
     "text": [
      "1: \"Industrial Enthusiast.\"  \n",
      "\n",
      "This captures your interest in the Industrial Revolution and its impact on the modern world concisely.\n",
      "\n",
      "2: **\"Industrial Enthusiast.\"**  \n",
      "\n",
      "This captures your passion for the Industrial Revolution and its impact on the modern world in just two words.\n",
      "\n",
      "3: **\"Industrial Enthusiast\"**  \n",
      "\n",
      "This captures your passion for the Industrial Revolution and its impact on the modern world in just two words.\n",
      "\n"
     ]
    }
   ],
   "source": [
    "# Add the user message\n",
    "message = \"I like learning about the industrial revolution and how it shapes the modern world. How can I introduce myself in two words.\"\n",
    "\n",
    "# Generate the response multiple times by specifying a high temperature value\n",
    "for idx in range(3):\n",
    "    response = co.chat(model=\"command-a-03-2025\",\n",
    "                       messages=[{'role':'user', 'content': message}],\n",
    "                       temperature=1)\n",
    "\n",
    "    print(f\"{idx+1}: {response.message.content[0].text}\\n\")"
   ]
  },
  {
   "cell_type": "code",
   "execution_count": null,
   "id": "5c1c0253-9e62-4739-a583-ff6320b96960",
   "metadata": {},
   "outputs": [],
   "source": []
  }
 ],
 "metadata": {
  "kernelspec": {
   "display_name": "Python 3 (ipykernel)",
   "language": "python",
   "name": "python3"
  },
  "language_info": {
   "codemirror_mode": {
    "name": "ipython",
    "version": 3
   },
   "file_extension": ".py",
   "mimetype": "text/x-python",
   "name": "python",
   "nbconvert_exporter": "python",
   "pygments_lexer": "ipython3",
   "version": "3.10.18"
  }
 },
 "nbformat": 4,
 "nbformat_minor": 5
}
