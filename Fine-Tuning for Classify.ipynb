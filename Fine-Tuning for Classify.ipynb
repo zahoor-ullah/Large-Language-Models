{
 "cells": [
  {
   "cell_type": "code",
   "execution_count": 1,
   "id": "2270d138-4f9d-4fd2-8c6d-b3df282f2637",
   "metadata": {},
   "outputs": [],
   "source": [
    "# Import the required modules\n",
    "import os\n",
    "import json\n",
    "import cohere\n",
    "import numpy as np\n",
    "import pandas as pd\n",
    "from cohere import ClassifyExample\n",
    "from sklearn.model_selection import train_test_split\n",
    "from sklearn.metrics import accuracy_score\n",
    "from sklearn.metrics import f1_score"
   ]
  },
  {
   "cell_type": "code",
   "execution_count": 2,
   "id": "7f7572a8-a423-4eb7-9a07-7b38b9516fde",
   "metadata": {},
   "outputs": [],
   "source": [
    "co = cohere.ClientV2(\"j3dnErL21HLrrwoaSskJsQpmAn2SxRc1JzJWg7yL\") # Get your free API key: https://dashboard.cohere.com/api-keys\n"
   ]
  },
  {
   "cell_type": "markdown",
   "id": "c5afd3f5-7ffd-458a-9d60-71969cc85b8f",
   "metadata": {},
   "source": [
    "### **Step 1: Prepare the Dataset**"
   ]
  },
  {
   "cell_type": "code",
   "execution_count": 5,
   "id": "9f19043e-a023-4ddd-a864-e0b0da8d5380",
   "metadata": {},
   "outputs": [
    {
     "name": "stdout",
     "output_type": "stream",
     "text": [
      "Number of entries: 1000\n"
     ]
    },
    {
     "data": {
      "text/html": [
       "<div>\n",
       "<style scoped>\n",
       "    .dataframe tbody tr th:only-of-type {\n",
       "        vertical-align: middle;\n",
       "    }\n",
       "\n",
       "    .dataframe tbody tr th {\n",
       "        vertical-align: top;\n",
       "    }\n",
       "\n",
       "    .dataframe thead th {\n",
       "        text-align: right;\n",
       "    }\n",
       "</style>\n",
       "<table border=\"1\" class=\"dataframe\">\n",
       "  <thead>\n",
       "    <tr style=\"text-align: right;\">\n",
       "      <th></th>\n",
       "      <th>query</th>\n",
       "      <th>intent</th>\n",
       "    </tr>\n",
       "  </thead>\n",
       "  <tbody>\n",
       "    <tr>\n",
       "      <th>0</th>\n",
       "      <td>i want to fly from boston at 838 am and arriv...</td>\n",
       "      <td>atis_flight</td>\n",
       "    </tr>\n",
       "    <tr>\n",
       "      <th>1</th>\n",
       "      <td>what flights are available from pittsburgh to...</td>\n",
       "      <td>atis_flight</td>\n",
       "    </tr>\n",
       "    <tr>\n",
       "      <th>2</th>\n",
       "      <td>what is the arrival time in san francisco for...</td>\n",
       "      <td>atis_flight_time</td>\n",
       "    </tr>\n",
       "    <tr>\n",
       "      <th>3</th>\n",
       "      <td>cheapest airfare from tacoma to orlando</td>\n",
       "      <td>atis_airfare</td>\n",
       "    </tr>\n",
       "    <tr>\n",
       "      <th>4</th>\n",
       "      <td>round trip fares from pittsburgh to philadelp...</td>\n",
       "      <td>atis_airfare</td>\n",
       "    </tr>\n",
       "  </tbody>\n",
       "</table>\n",
       "</div>"
      ],
      "text/plain": [
       "                                               query            intent\n",
       "0   i want to fly from boston at 838 am and arriv...       atis_flight\n",
       "1   what flights are available from pittsburgh to...       atis_flight\n",
       "2   what is the arrival time in san francisco for...  atis_flight_time\n",
       "3            cheapest airfare from tacoma to orlando      atis_airfare\n",
       "4   round trip fares from pittsburgh to philadelp...      atis_airfare"
      ]
     },
     "execution_count": 5,
     "metadata": {},
     "output_type": "execute_result"
    }
   ],
   "source": [
    "# Load the dataset to a dataframe\n",
    "df = pd.read_csv('https://raw.githubusercontent.com/cohere-ai/cohere-developer-experience/main/notebooks/data/atis_subset.csv', names=['query','intent'])\n",
    "print(\"Number of entries:\", len(df))\n",
    "df.head()"
   ]
  },
  {
   "cell_type": "code",
   "execution_count": 6,
   "id": "1a1e43b2-2481-4e7b-a332-3b297fe4cd22",
   "metadata": {},
   "outputs": [],
   "source": [
    "# Split the dataset into training and test portions\n",
    "df_train, df_test = train_test_split(df, test_size=200, random_state=21)"
   ]
  },
  {
   "cell_type": "code",
   "execution_count": 7,
   "id": "4ee40220-bb31-4bd0-85b0-71e56fd143d7",
   "metadata": {},
   "outputs": [
    {
     "name": "stdout",
     "output_type": "stream",
     "text": [
      "['atis_flight', 'atis_airfare', 'atis_ground_service', 'atis_flight_time', 'atis_airline', 'atis_quantity', 'atis_abbreviation', 'atis_aircraft']\n"
     ]
    }
   ],
   "source": [
    "# View the list of all available categories\n",
    "intents = df_train.intent.unique().tolist()\n",
    "print(intents)"
   ]
  },
  {
   "cell_type": "code",
   "execution_count": 8,
   "id": "fb6fee6b-d3b9-44c4-9293-79ecba052e38",
   "metadata": {},
   "outputs": [
    {
     "name": "stdout",
     "output_type": "stream",
     "text": [
      "Creating jsonl file ...\n",
      "Done\n"
     ]
    }
   ],
   "source": [
    "def create_classification_data(text, label):\n",
    "    formatted_data = {\n",
    "        \"text\": text,\n",
    "        \"label\": label\n",
    "    }\n",
    "    return formatted_data\n",
    "\n",
    "if not os.path.isfile(\"data.jsonl\"):\n",
    "    print(\"Creating jsonl file ...\")\n",
    "    with open(\"data.jsonl\", 'w+') as file:\n",
    "        for row in df_train.itertuples():\n",
    "            formatted_data = create_classification_data(row.query, row.intent)\n",
    "            file.write(json.dumps(formatted_data) + '\\n')\n",
    "        file.close()\n",
    "        print(\"Done\")\n",
    "else:\n",
    "    print(\"data.jsonl file already exists\")"
   ]
  },
  {
   "cell_type": "code",
   "execution_count": 9,
   "id": "4e785886-9f94-4b23-ae0c-dcc84f1106f4",
   "metadata": {},
   "outputs": [
    {
     "name": "stdout",
     "output_type": "stream",
     "text": [
      "{\"text\": \" what flights go from newark to boston after 5 pm\", \"label\": \"atis_flight\"}\n",
      "{\"text\": \" can you show me economy class one way fares for flights from oakland to dallas on december sixteenth\", \"label\": \"atis_airfare\"}\n",
      "{\"text\": \" show me the latest flight from salt lake city to phoenix\", \"label\": \"atis_flight\"}\n",
      "{\"text\": \" pittsburgh to denver\", \"label\": \"atis_flight\"}\n",
      "{\"text\": \" show me all flights from san francisco to atlanta\", \"label\": \"atis_flight\"}\n"
     ]
    }
   ],
   "source": [
    "# Load jsonl file and print first 5 lines\n",
    "N = 5\n",
    "with open(\"data.jsonl\") as f:\n",
    "    for i in range(0, N):\n",
    "        print(f.readline(), end = '')"
   ]
  },
  {
   "cell_type": "code",
   "execution_count": 14,
   "id": "616e552b-82fa-4954-be51-c7fccdf0b026",
   "metadata": {},
   "outputs": [
    {
     "ename": "AttributeError",
     "evalue": "'RawV2Client' object has no attribute 'classify'",
     "output_type": "error",
     "traceback": [
      "\u001b[0;31m---------------------------------------------------------------------------\u001b[0m",
      "\u001b[0;31mAttributeError\u001b[0m                            Traceback (most recent call last)",
      "Cell \u001b[0;32mIn[14], line 17\u001b[0m\n\u001b[1;32m     15\u001b[0m \u001b[38;5;28;01mfor\u001b[39;00m i \u001b[38;5;129;01min\u001b[39;00m \u001b[38;5;28mrange\u001b[39m(\u001b[38;5;241m0\u001b[39m, \u001b[38;5;28mlen\u001b[39m(df_test), BATCH_SIZE):\n\u001b[1;32m     16\u001b[0m     batch_texts \u001b[38;5;241m=\u001b[39m df_test[\u001b[38;5;124m\"\u001b[39m\u001b[38;5;124mquery\u001b[39m\u001b[38;5;124m\"\u001b[39m][i:i\u001b[38;5;241m+\u001b[39mBATCH_SIZE]\u001b[38;5;241m.\u001b[39mtolist()\n\u001b[0;32m---> 17\u001b[0m     y_pred\u001b[38;5;241m.\u001b[39mextend(\u001b[43mclassify_text_finetune\u001b[49m\u001b[43m(\u001b[49m\u001b[43mbatch_texts\u001b[49m\u001b[43m)\u001b[49m)\n",
      "Cell \u001b[0;32mIn[14], line 5\u001b[0m, in \u001b[0;36mclassify_text_finetune\u001b[0;34m(texts)\u001b[0m\n\u001b[1;32m      4\u001b[0m \u001b[38;5;28;01mdef\u001b[39;00m\u001b[38;5;250m \u001b[39m\u001b[38;5;21mclassify_text_finetune\u001b[39m(texts):\n\u001b[0;32m----> 5\u001b[0m     classifications \u001b[38;5;241m=\u001b[39m \u001b[43mco\u001b[49m\u001b[38;5;241;43m.\u001b[39;49m\u001b[43mclassify\u001b[49m\u001b[43m(\u001b[49m\n\u001b[1;32m      6\u001b[0m \u001b[43m        \u001b[49m\u001b[43mmodel\u001b[49m\u001b[38;5;241;43m=\u001b[39;49m\u001b[38;5;124;43m'\u001b[39;49m\u001b[38;5;124;43mb19725e0-c361-4fac-8776-4ce2bb1a805f-ft\u001b[39;49m\u001b[38;5;124;43m'\u001b[39;49m\u001b[43m,\u001b[49m\n\u001b[1;32m      7\u001b[0m \u001b[43m        \u001b[49m\u001b[43minputs\u001b[49m\u001b[38;5;241;43m=\u001b[39;49m\u001b[43mtexts\u001b[49m\u001b[43m,\u001b[49m\n\u001b[1;32m      8\u001b[0m \u001b[43m        \u001b[49m\u001b[43mexamples\u001b[49m\u001b[38;5;241;43m=\u001b[39;49m\u001b[38;5;28;43;01mNone\u001b[39;49;00m\n\u001b[1;32m      9\u001b[0m \u001b[43m    \u001b[49m\u001b[43m)\u001b[49m\u001b[38;5;241m.\u001b[39mclassifications\n\u001b[1;32m     10\u001b[0m     \u001b[38;5;28;01mreturn\u001b[39;00m [c\u001b[38;5;241m.\u001b[39mpredictions[\u001b[38;5;241m0\u001b[39m] \u001b[38;5;28;01mfor\u001b[39;00m c \u001b[38;5;129;01min\u001b[39;00m classifications]\n",
      "File \u001b[0;32m~/anaconda3/envs/ai/lib/python3.10/site-packages/cohere/base_client.py:1312\u001b[0m, in \u001b[0;36mBaseCohere.classify\u001b[0;34m(self, inputs, examples, model, preset, truncate, request_options)\u001b[0m\n\u001b[1;32m   1213\u001b[0m \u001b[38;5;28;01mdef\u001b[39;00m\u001b[38;5;250m \u001b[39m\u001b[38;5;21mclassify\u001b[39m(\n\u001b[1;32m   1214\u001b[0m     \u001b[38;5;28mself\u001b[39m,\n\u001b[1;32m   1215\u001b[0m     \u001b[38;5;241m*\u001b[39m,\n\u001b[0;32m   (...)\u001b[0m\n\u001b[1;32m   1221\u001b[0m     request_options: typing\u001b[38;5;241m.\u001b[39mOptional[RequestOptions] \u001b[38;5;241m=\u001b[39m \u001b[38;5;28;01mNone\u001b[39;00m,\n\u001b[1;32m   1222\u001b[0m ) \u001b[38;5;241m-\u001b[39m\u001b[38;5;241m>\u001b[39m ClassifyResponse:\n\u001b[1;32m   1223\u001b[0m \u001b[38;5;250m    \u001b[39m\u001b[38;5;124;03m\"\"\"\u001b[39;00m\n\u001b[1;32m   1224\u001b[0m \u001b[38;5;124;03m    This endpoint makes a prediction about which label fits the specified text inputs best. To make a prediction, Classify uses the provided `examples` of text + label pairs as a reference.\u001b[39;00m\n\u001b[1;32m   1225\u001b[0m \u001b[38;5;124;03m    Note: [Fine-tuned models](https://docs.cohere.com/docs/classify-fine-tuning) trained on classification examples don't require the `examples` parameter to be passed in explicitly.\u001b[39;00m\n\u001b[0;32m   (...)\u001b[0m\n\u001b[1;32m   1310\u001b[0m \u001b[38;5;124;03m    )\u001b[39;00m\n\u001b[1;32m   1311\u001b[0m \u001b[38;5;124;03m    \"\"\"\u001b[39;00m\n\u001b[0;32m-> 1312\u001b[0m     _response \u001b[38;5;241m=\u001b[39m \u001b[38;5;28;43mself\u001b[39;49m\u001b[38;5;241;43m.\u001b[39;49m\u001b[43m_raw_client\u001b[49m\u001b[38;5;241;43m.\u001b[39;49m\u001b[43mclassify\u001b[49m(\n\u001b[1;32m   1313\u001b[0m         inputs\u001b[38;5;241m=\u001b[39minputs,\n\u001b[1;32m   1314\u001b[0m         examples\u001b[38;5;241m=\u001b[39mexamples,\n\u001b[1;32m   1315\u001b[0m         model\u001b[38;5;241m=\u001b[39mmodel,\n\u001b[1;32m   1316\u001b[0m         preset\u001b[38;5;241m=\u001b[39mpreset,\n\u001b[1;32m   1317\u001b[0m         truncate\u001b[38;5;241m=\u001b[39mtruncate,\n\u001b[1;32m   1318\u001b[0m         request_options\u001b[38;5;241m=\u001b[39mrequest_options,\n\u001b[1;32m   1319\u001b[0m     )\n\u001b[1;32m   1320\u001b[0m     \u001b[38;5;28;01mreturn\u001b[39;00m _response\u001b[38;5;241m.\u001b[39mdata\n",
      "\u001b[0;31mAttributeError\u001b[0m: 'RawV2Client' object has no attribute 'classify'"
     ]
    }
   ],
   "source": [
    "# Generate classification predictions on the test dataset using the finetuned model\n",
    "\n",
    "# Classification function\n",
    "def classify_text_finetune(texts):\n",
    "    classifications = co.classify(\n",
    "        model='b19725e0-c361-4fac-8776-4ce2bb1a805f-ft',\n",
    "        inputs=texts,\n",
    "        examples=None\n",
    "    ).classifications\n",
    "    return [c.predictions[0] for c in classifications]\n",
    "\n",
    "# Create batches of texts and classify them\n",
    "BATCH_SIZE = 90 # The API accepts a maximum of 96 inputs\n",
    "y_pred = []\n",
    "for i in range(0, len(df_test), BATCH_SIZE):\n",
    "    batch_texts = df_test[\"query\"][i:i+BATCH_SIZE].tolist()\n",
    "    y_pred.extend(classify_text_finetune(batch_texts))"
   ]
  },
  {
   "cell_type": "code",
   "execution_count": null,
   "id": "fb9ff310-dcc5-46b8-8c8a-804d9316d894",
   "metadata": {},
   "outputs": [],
   "source": []
  }
 ],
 "metadata": {
  "kernelspec": {
   "display_name": "Python 3 (ipykernel)",
   "language": "python",
   "name": "python3"
  },
  "language_info": {
   "codemirror_mode": {
    "name": "ipython",
    "version": 3
   },
   "file_extension": ".py",
   "mimetype": "text/x-python",
   "name": "python",
   "nbconvert_exporter": "python",
   "pygments_lexer": "ipython3",
   "version": "3.10.18"
  }
 },
 "nbformat": 4,
 "nbformat_minor": 5
}
