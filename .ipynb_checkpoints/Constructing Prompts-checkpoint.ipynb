{
 "cells": [
  {
   "cell_type": "code",
   "execution_count": 2,
   "id": "92e704ae-74d4-40b2-987f-e8aeb6f4192f",
   "metadata": {},
   "outputs": [],
   "source": [
    "import cohere\n",
    "co = cohere.ClientV2(\"j3dnErL21HLrrwoaSskJsQpmAn2SxRc1JzJWg7yL\") # Get your free API key: https://dashboard.cohere.com/api-keys"
   ]
  },
  {
   "cell_type": "code",
   "execution_count": 7,
   "id": "748c6bcd-15b8-47a8-ad52-abd751de828a",
   "metadata": {},
   "outputs": [],
   "source": [
    "# Function to generate text\n",
    "def generate_text(message, temperature):\n",
    "    # Generate the response by streaming it\n",
    "    response = co.chat_stream(model=\"command-a-03-2025\",\n",
    "                              messages=[{'role':'user', 'content': message}],\n",
    "                              temperature=temperature)\n",
    "\n",
    "    for event in response:\n",
    "        if event.type == \"content-delta\":\n",
    "            print(event.delta.message.content.text, end=\"\")"
   ]
  },
  {
   "cell_type": "markdown",
   "id": "a2dc863a-4b28-46c4-bd9a-db271610d31c",
   "metadata": {},
   "source": [
    "##### Instruction"
   ]
  },
  {
   "cell_type": "code",
   "execution_count": 8,
   "id": "b7877b53-c337-4b3b-9295-d3d50f04e44c",
   "metadata": {},
   "outputs": [
    {
     "name": "stdout",
     "output_type": "stream",
     "text": [
      "**CO-1T Wireless Headphones: Where Sound Meets Freedom**  \n",
      "\n",
      "Step into a world where every note, every beat, and every whisper is yours alone. The **CO-1T Wireless Headphones** are not just an accessory—they’re an experience. Designed for the modern audiophile, these headphones redefine what it means to listen, offering unparalleled sound quality, seamless connectivity, and a design that’s as sleek as it is comfortable.  \n",
      "\n",
      "**Immersive Audio, Untethered**  \n",
      "With advanced **Active Noise Cancellation (ANC)**, the CO-1T blocks out the chaos of the world, letting you focus on what matters: your music, your podcast, your moment. Custom-tuned drivers deliver rich, balanced sound—deep bass, crisp highs, and a midrange that feels like the artist is right beside you. Whether you’re on a crowded commute or in a quiet corner, the CO-1T ensures every sound is crystal clear.  \n",
      "\n",
      "**Wireless, Without Compromise**  \n",
      "Say goodbye to tangled cords and hello to freedom. The CO-1T features **Bluetooth 5.2** for a stable, lag-free connection, so you can move through your day without missing a beat. With **30 hours of battery life** on a single charge (and a quick 10-minute charge for 4 hours of playtime), these headphones keep up with your busiest days and longest flights.  \n",
      "\n",
      "**Designed for You**  \n",
      "The CO-1T isn’t just a headphone—it’s a statement. Its **ergonomic, lightweight design** ensures all-day comfort, while premium materials like memory foam ear cushions and a flexible headband make it feel like a custom fit. Available in **Matte Black**, **Lunar White**, and **Midnight Blue**, the CO-1T complements your style, wherever you go.  \n",
      "\n",
      "**Smart Features, Smarter Listening**  \n",
      "Take control with intuitive touch controls—adjust volume, skip tracks, or answer calls with a simple tap. The **built-in microphone** with **noise reduction** ensures your voice is always clear, whether you’re on a call or commanding your smart assistant. Plus, with **multi-device pairing**, seamlessly switch between your phone, laptop, and tablet without missing a beat.  \n",
      "\n",
      "**Your Sound, Your Way**  \n",
      "The CO-1T is more than a headphone—it’s a companion for every moment. Whether you’re crushing a workout, crushing a deadline, or just escaping into your favorite playlist, the CO-1T delivers sound that moves you.  \n",
      "\n",
      "**Unbox the Future of Listening. Unbox the CO-1T.**  \n",
      "Experience sound like never before. The CO-1T—where freedom meets fidelity.  \n",
      "\n",
      "**Key Features:**  \n",
      "- Active Noise Cancellation (ANC)  \n",
      "- Bluetooth 5.2 with Multi-Device Pairing  \n",
      "- 30-Hour Battery Life + Quick Charge  \n",
      "- Ergonomic, Lightweight Design  \n",
      "- Touch Controls & Built-In Microphone  \n",
      "- Available in Matte Black, Lunar White, and Midnight Blue  \n",
      "\n",
      "**Your sound. Your freedom. Your CO-1T.**"
     ]
    }
   ],
   "source": [
    "user_input = \"a wireless headphone product named the CO-1T\"\n",
    "prompt = f\"\"\"Write a creative product description for {user_input}\"\"\"\n",
    "\n",
    "generate_text(prompt, temperature=0.5)"
   ]
  },
  {
   "cell_type": "markdown",
   "id": "9019f186-8173-463a-8a67-fa5ef84ece95",
   "metadata": {},
   "source": [
    "# **Specifics**"
   ]
  },
  {
   "cell_type": "code",
   "execution_count": 10,
   "id": "10283d4f-e232-42be-9c63-9c408c1dfd77",
   "metadata": {},
   "outputs": [
    {
     "name": "stdout",
     "output_type": "stream",
     "text": [
      "**CO-1T Wireless Headphones: Your Coding Sanctuary in a Noisy World**  \n",
      "\n",
      "Meet the **CO-1T**, the ultimate wireless companion designed for software developers who thrive in noisy offices but crave focus and clarity. With **Bluetooth 5.2** connectivity, these headphones deliver seamless, lag-free audio, ensuring your debugging sessions and video calls remain uninterrupted. Say goodbye to tangled wires and hello to freedom—the **CO-1T** is truly **wireless**, letting you move from your desk to the whiteboard without missing a beat.  \n",
      "\n",
      "Engineered for productivity, the **CO-1T** features **active noise cancellation (ANC)** that silences the chaos around you, so you can dive deep into your code without distractions. Need a quick boost? The **fast charging** technology gives you 2 hours of playtime with just a 10-minute charge, perfect for those tight deadlines. A full charge delivers up to 30 hours of battery life, so you’re covered through even the longest sprints.  \n",
      "\n",
      "Comfort is key when you’re coding for hours, and the **CO-1T** delivers with plush, ergonomic ear cups and a lightweight design that feels like it’s barely there. Plus, the built-in microphone with **AI-powered noise reduction** ensures your voice is crystal clear during team calls, even in the busiest offices.  \n",
      "\n",
      "Whether you’re debugging, brainstorming, or just need a moment of peace, the **CO-1T** is your ticket to a quieter, more productive workspace. Elevate your coding game—wirelessly, effortlessly, and in style.  \n",
      "\n",
      "**Key Benefits:**  \n",
      "- **Bluetooth 5.2** for stable, low-latency connectivity.  \n",
      "- **Wireless freedom** to move and think without restrictions.  \n",
      "- **Fast charging** for quick power boosts when time is tight.  \n",
      "- **Active noise cancellation** to block out office noise.  \n",
      "- **All-day comfort** for marathon coding sessions.  \n",
      "- **Crystal-clear calls** with AI-powered noise reduction.  \n",
      "\n",
      "The **CO-1T** isn’t just a headphone—it’s your productivity powerhouse. Code on."
     ]
    }
   ],
   "source": [
    "# A simple and short prompt can get you started, but in most cases, you’ll need to add specificity to your instructions.\n",
    "user_input_product = \"a wireless headphone product named the CO-1T\"\n",
    "user_input_keywords = '\"bluetooth\", \"wireless\", \"fast charging\"'\n",
    "user_input_customer = \"a software developer who works in noisy offices\"\n",
    "user_input_describe = \"benefits of this product\"\n",
    "prompt = f\"\"\"Write a creative product description for {user_input_product}\n",
    "with the keywords {user_input_keywords} for {user_input_customer}, and describe {user_input_describe}.\"\"\"\n",
    "\n",
    "generate_text(prompt, temperature=0.5)"
   ]
  },
  {
   "cell_type": "markdown",
   "id": "b10ad6aa-7dbc-4633-9dcc-f4d2c98097bf",
   "metadata": {},
   "source": [
    "### Structured"
   ]
  },
  {
   "cell_type": "code",
   "execution_count": 11,
   "id": "104bd783-81a5-428b-b0c9-5cfdec5c3d14",
   "metadata": {},
   "outputs": [
    {
     "name": "stdout",
     "output_type": "stream",
     "text": [
      "**CO-1T Wireless Headphones: Your Ultimate Focus Companion**  \n",
      "\n",
      "As a software developer, you know that every line of code demands precision, focus, and uninterrupted clarity. But in a noisy office, distractions are inevitable—until now. Meet the **CO-1T Wireless Headphones**, engineered to transform your workspace into a sanctuary of productivity.  \n",
      "\n",
      "**Bluetooth Freedom, Wired Reliability**  \n",
      "Say goodbye to tangled cords and hello to seamless connectivity. The CO-1T leverages cutting-edge **Bluetooth** technology to deliver a stable, lag-free audio experience. Whether you’re debugging code or jamming to your favorite playlist, the CO-1T ensures you stay in the zone without missing a beat.  \n",
      "\n",
      "**Wireless Design, Wired Efficiency**  \n",
      "Designed with your workflow in mind, the CO-1T’s **wireless** design lets you move freely between your desk, whiteboard, and coffee machine without being tethered to your device. Lightweight and ergonomic, these headphones are built for all-day comfort, so you can focus on what matters most—your code.  \n",
      "\n",
      "**Fast Charging for Nonstop Productivity**  \n",
      "Deadlines don’t wait, and neither should you. The CO-1T features **fast charging** technology, giving you hours of playtime with just a quick charge. A 10-minute boost provides up to 2 hours of use, ensuring you’re never sidelined by a low battery. With up to 30 hours of total playtime on a full charge, the CO-1T keeps up with your longest coding sessions.  \n",
      "\n",
      "**Noise Isolation for Peak Focus**  \n",
      "The CO-1T’s over-ear design and advanced noise isolation technology create a cocoon of silence, drowning out the chatter, clacking keyboards, and humming printers of the office. Immerse yourself in your IDE, podcasts, or focus-enhancing ambient sounds without distractions.  \n",
      "\n",
      "**Built for Developers, by Developers**  \n",
      "We understand your needs because we’ve been in your shoes. The CO-1T includes intuitive controls for calls, music, and voice assistants, so you can stay hands-on with your code while managing your workflow effortlessly. Plus, its sleek, professional design ensures you look as sharp as your code is clean.  \n",
      "\n",
      "The **CO-1T Wireless Headphones** aren’t just headphones—they’re your secret weapon for conquering noisy offices and shipping flawless code. Upgrade your focus. Upgrade your workflow. Upgrade to the CO-1T.  \n",
      "\n",
      "**Focus. Code. Conquer.**"
     ]
    }
   ],
   "source": [
    "user_input_product = \"a wireless headphone product named the CO-1T\"\n",
    "user_input_keywords = '\"bluetooth\", \"wireless\", \"fast charging\"'\n",
    "user_input_customer = \"a software developer who works in noisy offices\"\n",
    "user_input_describe = \"benefits of this product\"\\\n",
    "\n",
    "prompt = f\"\"\"Write a creative product description for {user_input_product}.\n",
    "Keywords: {user_input_keywords}\n",
    "Audience: {user_input_customer}\n",
    "Describe: {user_input_describe}\"\"\"\n",
    "\n",
    "generate_text(prompt, temperature=0.5)"
   ]
  },
  {
   "cell_type": "markdown",
   "id": "b4b2c061-6dc6-4134-a91b-b82d58dff322",
   "metadata": {},
   "source": [
    "### Context\n"
   ]
  },
  {
   "cell_type": "code",
   "execution_count": 12,
   "id": "4c4e8045-2ebc-4ffc-83eb-e6d77155b3f6",
   "metadata": {},
   "outputs": [
    {
     "name": "stdout",
     "output_type": "stream",
     "text": [
      "The CO-1T wireless headphones, while not a widely recognized model, likely share common features with other wireless headphones in its category. Based on typical features found in modern wireless headphones, here are some key features you might expect from the CO-1T:\n",
      "\n",
      "1. **Wireless Connectivity**: Bluetooth 5.0 or higher for stable and efficient wireless connection to devices like smartphones, tablets, and laptops.\n",
      "\n",
      "2. **Battery Life**: Long-lasting battery life, typically ranging from 20 to 30 hours on a single charge, depending on usage. Quick charging capabilities might also be included.\n",
      "\n",
      "3. **Sound Quality**: High-quality audio with features like active noise cancellation (ANC) to block out ambient noise, and possibly an ambient sound mode to let in outside noise when needed.\n",
      "\n",
      "4. **Comfort and Design**: Ergonomic design with soft ear cushions for extended comfort. Lightweight and foldable for easy portability.\n",
      "\n",
      "5. **Controls**: On-ear controls for adjusting volume, skipping tracks, and answering calls. Voice assistant compatibility (e.g., Siri, Google Assistant) is also common.\n",
      "\n",
      "6. **Microphone**: Built-in microphone for hands-free calling and voice commands, often with noise reduction technology for clearer communication.\n",
      "\n",
      "7. **Compatibility**: Multi-device pairing, allowing you to connect to multiple devices simultaneously and switch between them seamlessly.\n",
      "\n",
      "8. **Durability**: Sweat and water resistance (IPX rating) for use during workouts or in various weather conditions.\n",
      "\n",
      "9. **Accessories**: Included accessories such as a carrying case, USB-C charging cable, and possibly an auxiliary cable for wired listening.\n",
      "\n",
      "10. **Customization**: Companion app support for customizing sound profiles, updating firmware, and accessing additional features.\n",
      "\n",
      "Since the CO-1T is not a widely known model, it’s best to check the manufacturer’s specifications or user reviews for precise details about its features. If you have more specific information or a brand in mind, feel free to share, and I can provide more tailored details!"
     ]
    }
   ],
   "source": [
    "# Without Context\n",
    "\n",
    "user_input =\"What are the key features of the CO-1T wireless headphone\"\n",
    "prompt = user_input\n",
    "\n",
    "generate_text(prompt, temperature=0)"
   ]
  },
  {
   "cell_type": "code",
   "execution_count": 13,
   "id": "f6617db7-eb1a-40c1-a813-c07739e34fe6",
   "metadata": {},
   "outputs": [
    {
     "name": "stdout",
     "output_type": "stream",
     "text": [
      "The key features of the CO-1T wireless headphones, as described in the provided information, include:\n",
      "\n",
      "1. **Noise-Cancelling Technology**: Designed to block out distractions, allowing users to work in peace, even in noisy environments like tech startups.  \n",
      "2. **Fast Charging Capacity**: Ensures quick recharging, minimizing downtime and keeping the headphones ready for use throughout the day.  \n",
      "3. **Wireless Bluetooth Connectivity**: Offers seamless and hassle-free pairing with devices, enhancing convenience and mobility.  \n",
      "4. **Partnership with Software Developers**: Specifically designed in collaboration with professionals who work in chaotic environments, ensuring the headphones meet the needs of those in demanding workspaces.  \n",
      "\n",
      "These features make the CO-1T an ideal choice for individuals seeking focus and productivity in noisy settings."
     ]
    }
   ],
   "source": [
    "# With Context\n",
    "context = f\"\"\"Think back to the last time you were working without any distractions in the office. That's right...I bet it's been a while.\n",
    "\n",
    "With the newly improved CO-1T noise-cancelling Bluetooth headphones, you can work in peace all day. Designed in partnership with software developers who work around the mayhem of tech startups, these headphones are finally the break you've been waiting for.\n",
    "\n",
    "With fast charging capacity and wireless Bluetooth connectivity, the CO-1T is the easy breezy way to get through your day without being overwhelmed by the chaos of the world.\"\"\"\n",
    "\n",
    "user_input = \"What are the key features of the CO-1T wireless headphone\"\n",
    "\n",
    "prompt = f\"\"\"Given the information above, answer this question: {user_input}\n",
    "\n",
    "{context}\"\"\"\n",
    "\n",
    "generate_text(prompt, temperature=0)"
   ]
  },
  {
   "cell_type": "markdown",
   "id": "e84c9564-b4c3-4e8f-9e32-f90234f4b107",
   "metadata": {},
   "source": [
    "## **Examples**"
   ]
  },
  {
   "cell_type": "code",
   "execution_count": 14,
   "id": "b47f769a-6d39-43b8-b817-3b5ddfa40b54",
   "metadata": {},
   "outputs": [
    {
     "name": "stdout",
     "output_type": "stream",
     "text": [
      "**Action:**  \n",
      "Compose and send the following message to Alison:  \n",
      "\"Hi Alison! Could you pick me up tonight to go to the concert together? Let me know if that works for you. Thanks!\"  \n",
      "\n",
      "**Follow-up:**  \n",
      "Ensure the message is delivered and await Alison's response."
     ]
    }
   ],
   "source": [
    "# Without Examples (Zero-Shot)\n",
    "prompt=\"\"\"Turn the following message to a virtual assistant into the correct action:\n",
    "Send a message to Alison to ask if she can pick me up tonight to go to the concert together\"\"\"\n",
    "\n",
    "generate_text(prompt, temperature=0)"
   ]
  },
  {
   "cell_type": "code",
   "execution_count": 15,
   "id": "bcc1acb1-e707-45f0-b826-ee670ddd6449",
   "metadata": {},
   "outputs": [
    {
     "name": "stdout",
     "output_type": "stream",
     "text": [
      "Action: Can you pick me up tonight to go to the concert together?"
     ]
    }
   ],
   "source": [
    "# With Examples (Few-Shot)\n",
    "user_input = \"Send a message to Alison to ask if she can pick me up tonight to go to the concert together\"\n",
    "\n",
    "prompt=f\"\"\"Turn the following message to a virtual assistant into the correct action:\n",
    "\n",
    "Message: Ask my aunt if she can go to the JDRF Walk with me October 6th\n",
    "Action: can you go to the jdrf walk with me october 6th\n",
    "\n",
    "Message: Ask Eliza what should I bring to the wedding tomorrow\n",
    "Action: what should I bring to the wedding tomorrow\n",
    "\n",
    "Message: Send message to supervisor that I am sick and will not be in today\n",
    "Action: I am sick and will not be in today\n",
    "\n",
    "Message: {user_input}\n",
    "Action:\"\"\"\n",
    "\n",
    "generate_text(prompt, temperature=0)"
   ]
  },
  {
   "cell_type": "markdown",
   "id": "e6061c13-90ee-45e9-995e-f929276db8b4",
   "metadata": {},
   "source": [
    "### Chain of Thought"
   ]
  },
  {
   "cell_type": "code",
   "execution_count": 16,
   "id": "8695ddd9-4d17-4c10-abc7-0d2e4cddd1aa",
   "metadata": {},
   "outputs": [
    {
     "name": "stdout",
     "output_type": "stream",
     "text": [
      "Let's break down the problem step by step:\n",
      "\n",
      "1. **Initial number of balls in the box:** 10  \n",
      "2. **Half of the balls are red:** \\( \\frac{10}{2} = 5 \\) red balls initially.  \n",
      "3. **Red balls added:** 4  \n",
      "4. **Total red balls now:** \\( 5 + 4 = 9 \\)  \n",
      "\n",
      "**A: The answer is 9.**"
     ]
    }
   ],
   "source": [
    "# Without Examples\n",
    "prompt=f\"\"\"Q: Roger has 5 tennis balls. He buys 2 more cans of tennis balls. Each can has 3 tennis balls. \\\n",
    "How many tennis balls does he have now?\n",
    "A: The answer is 11.\n",
    "---\n",
    "Q: The cafeteria had 23 apples. If they used 20 to make lunch and bought 6 more, how many apples do they have?\n",
    "A: The answer is 9.\n",
    "---\n",
    "Q: A box has 10 balls and a half of the balls are red balls. How many red balls are in the box if 4 red balls are added?\n",
    "A:\"\"\"\n",
    "\n",
    "generate_text(prompt, temperature=0)"
   ]
  },
  {
   "cell_type": "code",
   "execution_count": 17,
   "id": "85803569-c45a-4209-9bb2-f9c875915a81",
   "metadata": {},
   "outputs": [
    {
     "name": "stdout",
     "output_type": "stream",
     "text": [
      "The box has 12 balls, and half of them are red, so there are 12 / 2 = 6 red balls initially. If 4 more red balls are added, the total number of red balls becomes 6 + 4 = 10. The answer is 10."
     ]
    }
   ],
   "source": [
    "# With Examples\n",
    "prompt=f\"\"\"Q: Roger has 5 tennis balls. He buys 2 more cans of tennis balls. Each can has 3 tennis balls. \\\n",
    "How many tennis balls does he have now?\n",
    "A: Roger started with 5 balls. 2 cans of 3 tennis balls each is 6 tennis balls. 5 + 6 = 11. \\\n",
    "The answer is 11.\n",
    "---\n",
    "Q: The cafeteria had 23 apples. If they used 20 to make lunch and bought 6 more, how many apples do they have?\n",
    "A: The cafeteria started with 23 apples. They used 20 to make lunch, so they have 23 - 20 = 3 apples. They bought 6 more apples, so they have 3 + 6 = 9 apples. \\\n",
    "The answer is 9.\n",
    "---\n",
    "Q: A box has 12 balls and a half of the balls are red balls. How many red balls are in the box if 4 red balls are added?\n",
    "A:\"\"\"\n",
    "\n",
    "generate_text(prompt, temperature=0)"
   ]
  },
  {
   "cell_type": "markdown",
   "id": "1b1f162d-be61-47be-81d5-635f15b85ccd",
   "metadata": {},
   "source": [
    "# Format"
   ]
  },
  {
   "cell_type": "code",
   "execution_count": 18,
   "id": "940a4b98-106f-47dd-9de1-486c56427ad3",
   "metadata": {},
   "outputs": [
    {
     "name": "stdout",
     "output_type": "stream",
     "text": [
      "Here’s the information organized into a table with the specified columns:\n",
      "\n",
      "| **Invoice Number** | **Merchant Name** | **Account Number** |\n",
      "|--------------------|-------------------|--------------------|\n",
      "| #0521              | ALLBIRDS          | XXX3846            |\n",
      "| #6781              | SHOPPERS          | XXX9877            |\n",
      "| #0777              | CN TOWER          | XXX3846            |"
     ]
    }
   ],
   "source": [
    "# Table Format\n",
    "prompt=\"\"\"Turn the following information into a table with columns Invoice Number, Merchant Name, and Account Number.\n",
    "Bank Invoice: INVOICE #0521 MERCHANT ALLBIRDS ACC XXX3846\n",
    "Bank Invoice: INVOICE #6781 MERCHANT SHOPPERS ACC XXX9877\n",
    "Bank Invoice: INVOICE #0777 MERCHANT CN TOWER ACC XXX3846\n",
    "\"\"\"\n",
    "\n",
    "generate_text(prompt, temperature=0)"
   ]
  },
  {
   "cell_type": "code",
   "execution_count": 19,
   "id": "db2c29a1-578f-415b-b1f7-3370701f8eb4",
   "metadata": {},
   "outputs": [
    {
     "name": "stdout",
     "output_type": "stream",
     "text": [
      "Here is the JSON string representation of the provided information:\n",
      "\n",
      "```json\n",
      "[\n",
      "  {\n",
      "    \"Invoice Number\": \"0521\",\n",
      "    \"Merchant Name\": \"ALLBIRDS\",\n",
      "    \"Account Number\": \"XXX3846\"\n",
      "  },\n",
      "  {\n",
      "    \"Invoice Number\": \"6781\",\n",
      "    \"Merchant Name\": \"SHOPPERS\",\n",
      "    \"Account Number\": \"XXX9877\"\n",
      "  },\n",
      "  {\n",
      "    \"Invoice Number\": \"0777\",\n",
      "    \"Merchant Name\": \"CN TOWER\",\n",
      "    \"Account Number\": \"XXX3846\"\n",
      "  }\n",
      "]\n",
      "```"
     ]
    }
   ],
   "source": [
    "# JSON Format\n",
    "prompt=\"\"\"Turn the following information into a JSON string with the following keys: Invoice Number, Merchant Name, and Account Number.\n",
    "Bank Invoice: INVOICE #0521 MERCHANT ALLBIRDS ACC XXX3846\n",
    "Bank Invoice: INVOICE #6781 MERCHANT SHOPPERS ACC XXX9877\n",
    "Bank Invoice: INVOICE #0777 MERCHANT CN TOWER ACC XXX3846\n",
    "\"\"\"\n",
    "\n",
    "generate_text(prompt, temperature=0)"
   ]
  },
  {
   "cell_type": "markdown",
   "id": "7a7df2bd-a861-44c5-b6ee-99469a1f1f2a",
   "metadata": {},
   "source": [
    "# Steps\n",
    "To steer the model toward generating higher-quality responses, it can be helpful to add instructions for the model to generate intermediate steps before generating the final output. The information generated during these steps helps enrich the model’s context before it generates the final response."
   ]
  },
  {
   "cell_type": "code",
   "execution_count": 20,
   "id": "99028ecc-9476-40a7-8cbc-2138d445c33f",
   "metadata": {},
   "outputs": [
    {
     "name": "stdout",
     "output_type": "stream",
     "text": [
      "**Startup Idea: \"SkillSync\" – Personalized Micro-Learning Platform for Lifelong Skill Development**\n",
      "\n",
      "**Problem:**  \n",
      "Traditional education systems and online courses often fail to cater to the fast-paced, ever-changing demands of the job market. Learners struggle with time constraints, lack of personalization, and difficulty applying new skills in real-world scenarios. Additionally, employers face challenges in upskilling their workforce efficiently.\n",
      "\n",
      "**Solution:**  \n",
      "**SkillSync** is a personalized micro-learning platform that syncs individual learning goals with industry demands, offering bite-sized, AI-curated lessons tailored to the user’s career path, learning style, and time availability.  \n",
      "\n",
      "**Key Features:**  \n",
      "1. **AI-Powered Personalization:**  \n",
      "   - Uses machine learning to analyze a user’s career goals, skill gaps, and learning preferences to create a customized learning path.  \n",
      "   - Adapts content in real-time based on progress and performance.  \n",
      "\n",
      "2. **Micro-Learning Modules:**  \n",
      "   - Offers 5–15 minute lessons (videos, quizzes, interactive exercises) that fit into busy schedules.  \n",
      "   - Focuses on practical, actionable skills (e.g., coding, data analysis, communication, leadership).  \n",
      "\n",
      "3. **Industry-Aligned Content:**  \n",
      "   - Partners with companies and industry experts to ensure content is up-to-date and relevant.  \n",
      "   - Includes real-world case studies and project-based learning.  \n",
      "\n",
      "4. **Gamified Progress Tracking:**  \n",
      "   - Rewards users with badges, certifications, and leaderboards to keep them motivated.  \n",
      "   - Provides detailed analytics to track skill growth over time.  \n",
      "\n",
      "5. **Collaborative Learning Communities:**  \n",
      "   - Connects learners with peers and mentors in their field for networking and collaboration.  \n",
      "   - Hosts live Q&A sessions, webinars, and group challenges.  \n",
      "\n",
      "6. **Corporate Upskilling Solutions:**  \n",
      "   - Offers enterprise plans for companies to upskill their employees with tailored programs.  \n",
      "   - Provides admin dashboards to track team progress and ROI.  \n",
      "\n",
      "**Revenue Model:**  \n",
      "- **Subscription Plans:** Monthly or annual fees for individual users.  \n",
      "- **Enterprise Licensing:** Custom pricing for businesses and organizations.  \n",
      "- **Premium Content:** Exclusive courses and certifications from top industry experts.  \n",
      "- **Affiliate Partnerships:** Collaborations with tools and software relevant to the skills being taught.  \n",
      "\n",
      "**Target Market:**  \n",
      "- **Individuals:** Professionals looking to upskill or pivot careers.  \n",
      "- **Students:** College students and recent graduates preparing for the job market.  \n",
      "- **Businesses:** Companies investing in employee development and retention.  \n",
      "\n",
      "**Unique Value Proposition:**  \n",
      "SkillSync bridges the gap between education and employment by offering personalized, practical, and time-efficient learning experiences that align with the needs of both learners and employers.  \n",
      "\n",
      "**Traction Plan:**  \n",
      "1. Launch with a pilot program targeting tech professionals and students.  \n",
      "2. Partner with industry leaders to create exclusive content.  \n",
      "3. Leverage social media and influencer marketing to build awareness.  \n",
      "4. Expand to other industries (e.g., healthcare, finance, creative arts) based on user demand.  \n",
      "\n",
      "**Long-Term Vision:**  \n",
      "Become the go-to platform for lifelong learning, empowering individuals and organizations to thrive in a rapidly evolving global economy."
     ]
    }
   ],
   "source": [
    "# Without Steps\n",
    "user_input = \"education\"\n",
    "\n",
    "prompt = f\"\"\"Generate a startup idea for this industry: {user_input}\"\"\"\n",
    "\n",
    "generate_text(prompt, temperature=0.5)"
   ]
  },
  {
   "cell_type": "code",
   "execution_count": 21,
   "id": "4438e0ed-bf6e-4f95-963a-890616c0c22b",
   "metadata": {},
   "outputs": [
    {
     "name": "stdout",
     "output_type": "stream",
     "text": [
      "Industry: Education  \n",
      "\n",
      "The Problem: Students often struggle with personalized learning paths due to one-size-fits-all curricula in traditional education systems. This leads to gaps in understanding, lack of engagement, and suboptimal academic performance. Additionally, teachers face challenges in catering to diverse learning needs within a single classroom, resulting in burnout and reduced effectiveness.  \n",
      "\n",
      "Audience: K-12 students, parents seeking supplementary education, and educators looking for tools to enhance their teaching methods.  \n",
      "\n",
      "Startup Idea: An AI-powered adaptive learning platform that creates personalized learning paths for students based on their strengths, weaknesses, and learning style. The platform uses gamification, interactive lessons, and real-time progress tracking to keep students engaged. For educators, it provides actionable insights into student performance and suggests tailored teaching strategies. Parents can monitor their child’s progress and receive recommendations for additional support. The platform integrates with existing school curricula and can be used as a standalone tool or a supplement to classroom learning.  \n",
      "\n",
      "Startup Name: **PathfinderEdu**"
     ]
    }
   ],
   "source": [
    "# user_input = \"education\"\n",
    "\n",
    "prompt = f\"\"\"Generate a startup idea for this industry: {user_input}\n",
    "First, describe the problem to be solved.\n",
    "Next, describe the target audience of this startup idea.\n",
    "Next, describe the startup idea and how it solves the problem for the target audience.\n",
    "Next, provide a name for the given startup.\n",
    "\n",
    "Use the following format:\n",
    "Industry: <the given industry>\n",
    "The Problem: <the given problem>\n",
    "Audience: <the given target audience>\n",
    "Startup Idea: <the given idea>\n",
    "Startup Name: <the given name>\"\"\"\n",
    "\n",
    "generate_text(prompt, temperature=0.9)"
   ]
  },
  {
   "cell_type": "code",
   "execution_count": null,
   "id": "1f31773b-c1cb-4a3e-82bb-0194eeb9d0fa",
   "metadata": {},
   "outputs": [],
   "source": []
  }
 ],
 "metadata": {
  "kernelspec": {
   "display_name": "Python 3 (ipykernel)",
   "language": "python",
   "name": "python3"
  },
  "language_info": {
   "codemirror_mode": {
    "name": "ipython",
    "version": 3
   },
   "file_extension": ".py",
   "mimetype": "text/x-python",
   "name": "python",
   "nbconvert_exporter": "python",
   "pygments_lexer": "ipython3",
   "version": "3.10.18"
  }
 },
 "nbformat": 4,
 "nbformat_minor": 5
}
