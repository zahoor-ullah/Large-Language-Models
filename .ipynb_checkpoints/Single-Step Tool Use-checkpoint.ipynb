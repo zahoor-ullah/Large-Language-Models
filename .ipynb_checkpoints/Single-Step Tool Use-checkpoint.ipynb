{
 "cells": [
  {
   "cell_type": "markdown",
   "id": "08a30fc7-527b-485e-9831-8bc3b7b733a9",
   "metadata": {},
   "source": [
    "### Single Step Tool \n",
    "    * single-step tool use scenario, an LLM calls a single tool or many tools in parallel. The tools then return the results, which the LLM uses to generate its response."
   ]
  },
  {
   "cell_type": "code",
   "execution_count": 1,
   "id": "008cee1a-9c37-4a67-9af3-4405cb192473",
   "metadata": {},
   "outputs": [],
   "source": [
    "# pip install cohere\n",
    "\n",
    "import json\n",
    "import cohere\n",
    "co = cohere.Client(api_key=\"j3dnErL21HLrrwoaSskJsQpmAn2SxRc1JzJWg7yL\")"
   ]
  },
  {
   "cell_type": "code",
   "execution_count": 2,
   "id": "c72e048f-f9ea-4d2f-91c9-2fb06e244390",
   "metadata": {},
   "outputs": [],
   "source": [
    "# Step 1: Create Tools"
   ]
  },
  {
   "cell_type": "code",
   "execution_count": 3,
   "id": "66618117-275c-4245-b0da-c7c4dfc6b70c",
   "metadata": {},
   "outputs": [],
   "source": [
    "def daily_sales_report(day: str) -> dict:\n",
    "    \"\"\"\n",
    "    Function to retrieve the sales report for the given day\n",
    "    \"\"\"\n",
    "    # Mock database containing daily sales reports\n",
    "    sales_database = {\n",
    "    '2023-09-28': {'total_sales_amount': 5000,'total_units_sold': 100},\n",
    "    '2023-09-29': {'total_sales_amount': 10000,'total_units_sold': 250},\n",
    "    '2023-09-30': {'total_sales_amount': 8000,'total_units_sold': 200}\n",
    "    }\n",
    "    \n",
    "    report = sales_database.get(day, {})\n",
    "    \n",
    "    if report:\n",
    "        return {\n",
    "            'date': day,\n",
    "            'summary': f\"Total Sales Amount: {report['total_sales_amount']}, Total Units Sold: {report['total_units_sold']}\"\n",
    "        }\n",
    "    else:\n",
    "        return {'date': day, 'summary': 'No sales data available for this day.'}\n",
    "    \n",
    "\n",
    "def product_database(category: str) -> dict:\n",
    "    \"\"\"\n",
    "    Function to retrieve products for the given category\n",
    "    \"\"\"\n",
    "    \n",
    "    # Mock product catalog\n",
    "    product_catalog = {\n",
    "        'Electronics': [\n",
    "            {'product_id': 'E1001', 'name': 'Smartphone', 'price': 500, 'stock_level': 20},\n",
    "            {'product_id': 'E1002', 'name': 'Laptop', 'price': 1000, 'stock_level': 15},\n",
    "            {'product_id': 'E1003', 'name': 'Tablet', 'price': 300, 'stock_level': 25},\n",
    "        ],\n",
    "        'Clothing': [\n",
    "            {'product_id': 'C1001', 'name': 'T-Shirt', 'price': 20, 'stock_level': 100},\n",
    "            {'product_id': 'C1002', 'name': 'Jeans', 'price': 50, 'stock_level': 80},\n",
    "            {'product_id': 'C1003', 'name': 'Jacket', 'price': 100, 'stock_level': 40},\n",
    "        ]\n",
    "    }\n",
    "    \n",
    "    products = product_catalog.get(category, [])\n",
    "    return {\n",
    "        'category': category,\n",
    "        'products': products\n",
    "    }\n",
    "\n",
    "functions_map = {\n",
    "    \"daily_sales_report\": daily_sales_report,\n",
    "    \"product_database\": product_database\n",
    "}"
   ]
  },
  {
   "cell_type": "code",
   "execution_count": 4,
   "id": "38ec167f-65c6-46b3-998d-36b1c0c3e82f",
   "metadata": {},
   "outputs": [],
   "source": [
    "# Step 2: Define Tool Schema\n",
    "tools = [\n",
    "    {\n",
    "        \"name\": \"daily_sales_report\",\n",
    "        \"description\": \"Connects to a database to retrieve overall sales volumes and sales information for a given day.\",\n",
    "        \"parameter_definitions\": {\n",
    "            \"day\": {\n",
    "                \"description\": \"Retrieves sales data for this day, formatted as YYYY-MM-DD.\",\n",
    "                \"type\": \"str\",\n",
    "                \"required\": True\n",
    "            }\n",
    "        }\n",
    "    },\n",
    "    {\n",
    "        \"name\": \"product_database\",\n",
    "        \"description\": \"A database that contains information about all the products of this company, including categories, prices, and stock levels.\",\n",
    "        \"parameter_definitions\": {\n",
    "            \"category\": {\n",
    "                \"description\": \"Retrieves product information data for all products in this category.\",\n",
    "                \"type\": \"str\",\n",
    "                \"required\": True\n",
    "            }\n",
    "        }\n",
    "    }\n",
    "]"
   ]
  },
  {
   "cell_type": "code",
   "execution_count": 5,
   "id": "90d47ece-f985-4f33-943f-1b4001c30e56",
   "metadata": {},
   "outputs": [],
   "source": [
    "# Step 3: Create Custom Preamble (Optional)\n",
    "preamble = \"\"\"## Task & Context\n",
    "You help people answer their questions and other requests interactively. You will be asked a very wide array of requests on all kinds of topics. You will be equipped with a wide range of search engines or similar tools to help you, which you use to research your answer. You should focus on serving the user's needs as best you can, which will be wide-ranging.\n",
    "\n",
    "## Style Guide\n",
    "Unless the user asks for a different style of answer, you should answer in full sentences, using proper grammar and spelling.\n",
    "\"\"\""
   ]
  },
  {
   "cell_type": "code",
   "execution_count": 6,
   "id": "f167d22b-85de-49e5-9e89-6d83b2af592c",
   "metadata": {},
   "outputs": [],
   "source": [
    "model = \"command-a-03-2025\"\n",
    "\n",
    "def run_assistant(message, chat_history=[]):\n",
    "    # Step 1: Get user message\n",
    "    print(f\"Question:\\n{message}\")\n",
    "    print(\"=\"*50)\n",
    "\n",
    "    # Step 2: Generate tool calls (if any)    \n",
    "    response = co.chat(\n",
    "        message=message,\n",
    "        model=model,\n",
    "        preamble=preamble,\n",
    "        tools=tools,\n",
    "        chat_history=chat_history,\n",
    "        force_single_step=True\n",
    "    )\n",
    "\n",
    "    while response.tool_calls:\n",
    "        tool_calls = response.tool_calls\n",
    "        \n",
    "        if response.text:\n",
    "            print(\"Tool plan:\")\n",
    "            print(response.text,\"\\n\")\n",
    "        print(\"Tool calls:\")\n",
    "        for call in tool_calls:\n",
    "            print(f\"Tool name: {call.name} | Parameters: {call.parameters}\")\n",
    "        print(\"=\"*50)\n",
    "        \n",
    "        # Step 3: Get tool results\n",
    "        tool_results = []\n",
    "        for tc in tool_calls:\n",
    "            tool_call = {\"name\": tc.name, \"parameters\": tc.parameters}\n",
    "            tool_output = functions_map[tc.name](**tc.parameters)\n",
    "            tool_results.append({\"call\": tool_call, \"outputs\": [tool_output]})\n",
    "        \n",
    "        # Step 4: Generate response and citations                \n",
    "        response = co.chat(\n",
    "            message=\"\",\n",
    "            model=model,\n",
    "            preamble=preamble,\n",
    "            tools=tools,\n",
    "            tool_results=tool_results,\n",
    "            chat_history=response.chat_history\n",
    "        )\n",
    "\n",
    "        # Update the chat history\n",
    "        chat_history = response.chat_history\n",
    "        \n",
    "    # Print final response\n",
    "    print(\"Final response:\")\n",
    "    print(response.text)\n",
    "    print(\"=\"*50)\n",
    "    \n",
    "    # Print citations (if any)\n",
    "    if response.citations:\n",
    "        print(\"Citations:\")\n",
    "        for citation in response.citations:\n",
    "            print(citation)\n",
    "        print(\"\\nCited Documents:\")\n",
    "        for document in response.documents:\n",
    "            print(document)\n",
    "        print(\"=\"*50)\n",
    "    \n",
    "    return chat_history"
   ]
  },
  {
   "cell_type": "code",
   "execution_count": 7,
   "id": "45e37179-e5ee-4899-9d4c-4e1cabdcb56c",
   "metadata": {},
   "outputs": [
    {
     "name": "stdout",
     "output_type": "stream",
     "text": [
      "Question:\n",
      "Can you provide a sales summary for 29th September 2023?\n",
      "==================================================\n",
      "Tool plan:\n",
      "I will use one or more of the available tools to find the answer \n",
      "\n",
      "Tool calls:\n",
      "Tool name: daily_sales_report | Parameters: {'day': '2023-09-29'}\n",
      "==================================================\n",
      "Final response:\n",
      "On 29th September 2023, the total sales amount was 10,000 and the total units sold were 250.\n",
      "==================================================\n",
      "Citations:\n",
      "start=28 end=57 text='total sales amount was 10,000' document_ids=['daily_sales_report:0:2:0'] type='TEXT_CONTENT'\n",
      "start=66 end=92 text='total units sold were 250.' document_ids=['daily_sales_report:0:2:0'] type='TEXT_CONTENT'\n",
      "\n",
      "Cited Documents:\n",
      "{'date': '2023-09-29', 'id': 'daily_sales_report:0:2:0', 'summary': 'Total Sales Amount: 10000, Total Units Sold: 250'}\n",
      "==================================================\n"
     ]
    }
   ],
   "source": [
    "chat_history = run_assistant(\"Can you provide a sales summary for 29th September 2023?\")"
   ]
  },
  {
   "cell_type": "code",
   "execution_count": 8,
   "id": "750936f8-6b7d-4014-bea8-9cf3af6a3667",
   "metadata": {},
   "outputs": [
    {
     "name": "stdout",
     "output_type": "stream",
     "text": [
      "Question:\n",
      "Can you provide a sales summary for 28th and 29th September 2023 as well as the stock level of the products in the 'Electronics' category?\n",
      "==================================================\n",
      "Tool plan:\n",
      "I will use one or more of the available tools to find the answer \n",
      "\n",
      "Tool calls:\n",
      "Tool name: daily_sales_report | Parameters: {'day': '2023-09-28'}\n",
      "Tool name: daily_sales_report | Parameters: {'day': '2023-09-29'}\n",
      "Tool name: product_database | Parameters: {'category': 'Electronics'}\n",
      "==================================================\n",
      "Final response:\n",
      "Here is a sales summary for 28th and 29th September 2023:\n",
      "\n",
      "- **28th September 2023**: Total Sales Amount: 5000, Total Units Sold: 100\n",
      "- **29th September 2023**: Total Sales Amount: 10000, Total Units Sold: 250\n",
      "\n",
      "Here is the stock level of the products in the 'Electronics' category:\n",
      "\n",
      "- Smartphone: 20\n",
      "- Laptop: 15\n",
      "- Tablet: 25\n",
      "==================================================\n",
      "Citations:\n",
      "start=86 end=133 text='Total Sales Amount: 5000, Total Units Sold: 100' document_ids=['daily_sales_report:0:2:0'] type='TEXT_CONTENT'\n",
      "start=161 end=209 text='Total Sales Amount: 10000, Total Units Sold: 250' document_ids=['daily_sales_report:1:2:0'] type='TEXT_CONTENT'\n",
      "start=285 end=299 text='Smartphone: 20' document_ids=['product_database:2:2:0'] type='TEXT_CONTENT'\n",
      "start=302 end=312 text='Laptop: 15' document_ids=['product_database:2:2:0'] type='TEXT_CONTENT'\n",
      "start=315 end=325 text='Tablet: 25' document_ids=['product_database:2:2:0'] type='TEXT_CONTENT'\n",
      "\n",
      "Cited Documents:\n",
      "{'date': '2023-09-28', 'id': 'daily_sales_report:0:2:0', 'summary': 'Total Sales Amount: 5000, Total Units Sold: 100'}\n",
      "{'date': '2023-09-29', 'id': 'daily_sales_report:1:2:0', 'summary': 'Total Sales Amount: 10000, Total Units Sold: 250'}\n",
      "{'category': 'Electronics', 'id': 'product_database:2:2:0', 'products': '[{\"name\":\"Smartphone\",\"price\":500,\"product_id\":\"E1001\",\"stock_level\":20},{\"name\":\"Laptop\",\"price\":1000,\"product_id\":\"E1002\",\"stock_level\":15},{\"name\":\"Tablet\",\"price\":300,\"product_id\":\"E1003\",\"stock_level\":25}]'}\n",
      "==================================================\n"
     ]
    }
   ],
   "source": [
    "# Single-Step, Parallel Tool Use\n",
    "chat_history = run_assistant(\"Can you provide a sales summary for 28th and 29th September 2023 as well as the stock level of the products in the 'Electronics' category?\")"
   ]
  },
  {
   "cell_type": "markdown",
   "id": "295bd18d-3720-41ee-af24-d44d08b85835",
   "metadata": {},
   "source": [
    "## Directly Answering\n",
    " * tool use systems is the model’s ability to choose the right tools for a task. This includes the ability to decide to not use any tool, and instead, respond to a user message directly."
   ]
  },
  {
   "cell_type": "code",
   "execution_count": 9,
   "id": "55cd9971-2374-47c1-a406-54bef8013963",
   "metadata": {},
   "outputs": [
    {
     "name": "stdout",
     "output_type": "stream",
     "text": [
      "Question:\n",
      "Give me 3 concise tips on how to build a great company\n",
      "==================================================\n",
      "Tool plan:\n",
      "I will use one or more of the available tools to find the answer \n",
      "\n",
      "Tool calls:\n",
      "Tool name: product_database | Parameters: {'category': '3 concise tips on how to build a great company'}\n",
      "==================================================\n",
      "Final response:\n",
      "I'm sorry, I couldn't find any information on how to build a great company.\n",
      "==================================================\n"
     ]
    }
   ],
   "source": [
    "chat_history = run_assistant(\"Give me 3 concise tips on how to build a great company\")"
   ]
  },
  {
   "cell_type": "code",
   "execution_count": 10,
   "id": "0a029ace-02c3-4f03-b2c8-047e7cde8b44",
   "metadata": {},
   "outputs": [
    {
     "name": "stdout",
     "output_type": "stream",
     "text": [
      "Question:\n",
      "How many employees does this company have?\n",
      "==================================================\n",
      "Tool plan:\n",
      "I will use one or more of the available tools to find the answer \n",
      "\n",
      "Tool calls:\n",
      "Tool name: product_database | Parameters: {'category': 'employees'}\n",
      "==================================================\n",
      "Final response:\n",
      "I'm sorry, I am unable to find the answer to your question.\n",
      "==================================================\n"
     ]
    }
   ],
   "source": [
    "chat_history = run_assistant(\"How many employees does this company have?\")"
   ]
  },
  {
   "cell_type": "code",
   "execution_count": 11,
   "id": "42d7424d-c47a-4c99-bac8-5096a1dc04a2",
   "metadata": {},
   "outputs": [],
   "source": [
    "# State Management (Memory)"
   ]
  },
  {
   "cell_type": "code",
   "execution_count": 12,
   "id": "195de24b-0580-4b12-a064-4e4c78bc582f",
   "metadata": {},
   "outputs": [
    {
     "name": "stdout",
     "output_type": "stream",
     "text": [
      "role='USER' message='How many employees does this company have?' tool_calls=None \n",
      "\n",
      "role='CHATBOT' message='I will use one or more of the available tools to find the answer' tool_calls=[ToolCall(name='product_database', parameters={'category': 'employees'})] \n",
      "\n",
      "role='TOOL' tool_results=[ToolResult(call=ToolCall(name='product_database', parameters={'category': 'employees'}), outputs=[{'category': 'employees', 'products': []}])] \n",
      "\n",
      "role='CHATBOT' message=\"I'm sorry, I am unable to find the answer to your question.\" tool_calls=None \n",
      "\n"
     ]
    }
   ],
   "source": [
    "# Print chat history\n",
    "for turn in chat_history:\n",
    "    print(turn,\"\\n\")\n",
    "    "
   ]
  },
  {
   "cell_type": "code",
   "execution_count": null,
   "id": "aa5ced9b-f582-4a00-8f8e-4a72705a2acb",
   "metadata": {},
   "outputs": [],
   "source": []
  },
  {
   "cell_type": "code",
   "execution_count": null,
   "id": "fe59c1b0-f49c-4646-812f-ff7b590aeda9",
   "metadata": {},
   "outputs": [],
   "source": []
  }
 ],
 "metadata": {
  "kernelspec": {
   "display_name": "Python 3 (ipykernel)",
   "language": "python",
   "name": "python3"
  },
  "language_info": {
   "codemirror_mode": {
    "name": "ipython",
    "version": 3
   },
   "file_extension": ".py",
   "mimetype": "text/x-python",
   "name": "python",
   "nbconvert_exporter": "python",
   "pygments_lexer": "ipython3",
   "version": "3.10.18"
  }
 },
 "nbformat": 4,
 "nbformat_minor": 5
}
