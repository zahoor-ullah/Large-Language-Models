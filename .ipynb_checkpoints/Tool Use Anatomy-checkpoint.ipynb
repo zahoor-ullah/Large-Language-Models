{
 "cells": [
  {
   "cell_type": "markdown",
   "id": "f86b557a-09b1-4025-a9a6-371f76011681",
   "metadata": {},
   "source": [
    "### Introduction\n",
    " * In this chapter, we’ll dissect the key components of a tool use system and what a tool use workflow looks like. And we’ll do that with a concrete code example.\n",
    "To build an intuition of how tool use works, let’s start with a simple example. We’ll look at a use case of a RAG assistant that can query the sales database of an e-commerce company.\n",
    "In summary, there are two parts to building a tool use application:\n",
    "* Setting up the tools\n",
    "* Running the tool use workflow"
   ]
  },
  {
   "cell_type": "code",
   "execution_count": 1,
   "id": "ae471e38-d6b3-4823-80f1-67f16249325a",
   "metadata": {},
   "outputs": [],
   "source": [
    "# Setting Up the Tools\n",
    "import json\n",
    "import cohere\n",
    "co = cohere.Client(api_key=\"j3dnErL21HLrrwoaSskJsQpmAn2SxRc1JzJWg7yL\")"
   ]
  },
  {
   "cell_type": "code",
   "execution_count": 2,
   "id": "b1595264-a9eb-4544-ab09-b0bef4c71614",
   "metadata": {},
   "outputs": [],
   "source": [
    "# Creating the tool (tool can be any function or service that can receive and send data.)\n",
    "# Defining the tool schema"
   ]
  },
  {
   "cell_type": "code",
   "execution_count": 6,
   "id": "f4eebb1f-fb57-4ab6-b537-acd540a0ac43",
   "metadata": {},
   "outputs": [],
   "source": [
    "# Step 1: Create the Tool\n",
    "def daily_sales_report(day: str) -> dict:\n",
    "    \"\"\"\n",
    "    Function to retrieve the sales report for the given day\n",
    "    \"\"\"\n",
    "    # Mock database containing daily sales reports\n",
    "    sales_database = {\n",
    "    '2023-09-28': {'total_sales_amount': 5000,'total_units_sold': 100},\n",
    "    '2023-09-29': {'total_sales_amount': 10000,'total_units_sold': 250},\n",
    "    '2023-09-30': {'total_sales_amount': 8000,'total_units_sold': 200}\n",
    "    }\n",
    "    report = sales_database.get(day,{})\n",
    "    if report:\n",
    "        return{\n",
    "            'date':day,\n",
    "            'summary':f\"Total Sales Amount:{report['total_sales_amount']}\"\n",
    "        }\n",
    "    else:\n",
    "        return {'date': day, 'summary': 'No sales data available for this day.'}\n",
    "    \n",
    "\n",
    "functions_map = {\n",
    "    \"daily_sales_report\": daily_sales_report\n",
    "}"
   ]
  },
  {
   "cell_type": "code",
   "execution_count": 7,
   "id": "04cefbd2-e369-4055-a0a9-6c33bee0accf",
   "metadata": {},
   "outputs": [],
   "source": [
    "# Step 2: Define Tool Schema\n",
    "tools = [\n",
    "    {\n",
    "        \"name\": \"daily_sales_report\",\n",
    "        \"description\": \"Connects to a database to retrieve overall sales volumes and sales information for a given day.\",\n",
    "        \"parameter_definitions\": {\n",
    "            \"day\": {\n",
    "                \"description\": \"Retrieves sales data for this day, formatted as YYYY-MM-DD.\",\n",
    "                \"type\": \"str\",\n",
    "                \"required\": True\n",
    "            }\n",
    "        }\n",
    "    }\n",
    "]"
   ]
  },
  {
   "cell_type": "code",
   "execution_count": 8,
   "id": "b9611752-ee44-4dec-9a28-4b589e119d1c",
   "metadata": {},
   "outputs": [],
   "source": [
    "# Step 3: Create Custom Preamble (Optional)\n",
    "preamble = \"\"\"## Task & Context\n",
    "You help people answer their questions and other requests interactively. You will be asked a very wide array of requests on all kinds of topics. You will be equipped with a wide range of search engines or similar tools to help you, which you use to research your answer. You should focus on serving the user's needs as best you can, which will be wide-ranging.\n",
    "\n",
    "## Style Guide\n",
    "Unless the user asks for a different style of answer, you should answer in full sentences, using proper grammar and spelling.\n",
    "\"\"\""
   ]
  },
  {
   "cell_type": "markdown",
   "id": "c46cd8f5-ea40-4f4d-9244-9c9031a766dd",
   "metadata": {},
   "source": [
    "### Running the tool workflow\n",
    "The tool is now ready to use. We can think of a tool use system as consisting of four components:\n",
    "\n",
    "* The user\n",
    "* The application\n",
    "* The LLM\n",
    "* The tools"
   ]
  },
  {
   "cell_type": "code",
   "execution_count": 9,
   "id": "c7543171-1e36-44fb-b005-065dcd5627c9",
   "metadata": {},
   "outputs": [],
   "source": [
    "# Step 1: Get User Message\n",
    "message = \"Can you provide a sales summary for 29th September 2023?\""
   ]
  },
  {
   "cell_type": "code",
   "execution_count": 15,
   "id": "131acb80-c8dd-4af4-b75d-cb0ceb1bcf9f",
   "metadata": {},
   "outputs": [
    {
     "name": "stdout",
     "output_type": "stream",
     "text": [
      "Tool calls:\n",
      "\n",
      "#1\n",
      "Tool: daily_sales_report\n",
      "Parameters: {'day': '2023-09-29'}\n",
      "\n"
     ]
    }
   ],
   "source": [
    "# Step 2: Generate Tool Calls\n",
    "model = \"command-a-03-2025\"\n",
    "# Initial response to the user message\n",
    "response = co.chat(\n",
    "    message=message,\n",
    "    model=model,\n",
    "    preamble=preamble,\n",
    "    tools=tools,\n",
    "    force_single_step=True\n",
    ")\n",
    "\n",
    "tool_calls = response.tool_calls\n",
    "    \n",
    "print(\"Tool calls:\\n\")\n",
    "for i,t in enumerate(tool_calls):\n",
    "    print(f\"#{i+1}\\nTool: {t.name}\\nParameters: {t.parameters}\\n\")\n",
    "    "
   ]
  },
  {
   "cell_type": "code",
   "execution_count": 16,
   "id": "e58cea83-9c3f-4cd9-862b-644c59d1f7c7",
   "metadata": {},
   "outputs": [
    {
     "name": "stdout",
     "output_type": "stream",
     "text": [
      "Tool results:\n",
      "\n",
      "#1\n",
      "Tool call: {'name': 'daily_sales_report', 'parameters': {'day': '2023-09-29'}}\n",
      "Outputs: [{'date': '2023-09-29', 'summary': 'Total Sales Amount:10000'}]\n",
      "\n"
     ]
    }
   ],
   "source": [
    "# Step 3: Get Tool Results\n",
    "tool_results = []\n",
    "for tc in tool_calls:\n",
    "    tool_output = functions_map[tc.name](**tc.parameters)\n",
    "    tool_call = {\"name\": tc.name, \"parameters\": tc.parameters}\n",
    "    tool_results.append({\"call\": tool_call, \"outputs\": [tool_output]})\n",
    "    \n",
    "print(\"Tool results:\\n\")\n",
    "for i, t in enumerate(tool_results):\n",
    "    print(f\"#{i+1}\\nTool call: {t['call']}\\nOutputs: {t['outputs']}\\n\")"
   ]
  },
  {
   "cell_type": "code",
   "execution_count": 18,
   "id": "7b695566-ff99-429b-ac54-23132afdb707",
   "metadata": {},
   "outputs": [
    {
     "name": "stdout",
     "output_type": "stream",
     "text": [
      "Final response:\n",
      "The total sales amount for 29th September 2023 was 10,000.\n",
      "==================================================\n",
      "\n",
      "Citations:\n",
      "start=51 end=58 text='10,000.' document_ids=['daily_sales_report:0:2:0'] type='TEXT_CONTENT'\n",
      "\n",
      "Cited Documents:\n",
      "{'date': '2023-09-29', 'id': 'daily_sales_report:0:2:0', 'summary': 'Total Sales Amount:10000'}\n"
     ]
    }
   ],
   "source": [
    "# Step 4: Generate Response and Citations\n",
    "# response.chat_history\n",
    "\n",
    "# Generate response\n",
    "response = co.chat(\n",
    "    message=\"\",\n",
    "    model=model,\n",
    "    preamble=preamble,\n",
    "    tools=tools,\n",
    "    tool_results=tool_results,\n",
    "    chat_history=response.chat_history\n",
    ")\n",
    "    \n",
    "print(\"Final response:\")\n",
    "print(response.text)\n",
    "print(\"=\"*50)\n",
    "\n",
    "if response.citations:\n",
    "    print(\"\\nCitations:\")\n",
    "    for citation in response.citations:\n",
    "        print(citation)\n",
    "    print(\"\\nCited Documents:\")\n",
    "    for document in response.documents:\n",
    "        print(document)"
   ]
  },
  {
   "cell_type": "code",
   "execution_count": 21,
   "id": "1a66b105-c16b-431e-8b9f-ef0dcc9294bc",
   "metadata": {},
   "outputs": [
    {
     "name": "stdout",
     "output_type": "stream",
     "text": [
      "Final response:\n",
      "\n",
      "The total sales amount for 29th September 2023 was 10,000.\n",
      "\n",
      "Citations:\n",
      "start=51 end=58 text='10,000.' document_ids=['daily_sales_report:0:4:0'] type='TEXT_CONTENT'\n",
      "\n",
      "Cited Documents\n",
      "{'date': '2023-09-29', 'id': 'daily_sales_report:0:4:0', 'summary': 'Total Sales Amount:10000'}\n"
     ]
    }
   ],
   "source": [
    "# Streaming the Response\n",
    " # Generate response\n",
    "response = co.chat_stream(\n",
    "    message=\"\",\n",
    "    model=model,\n",
    "    preamble=preamble,\n",
    "    tools=tools,\n",
    "    tool_results=tool_results,\n",
    "    chat_history=response.chat_history\n",
    ")\n",
    "    \n",
    "print(\"Final response:\\n\")\n",
    "chatbot_response = \"\"\n",
    "\n",
    "for event in response:\n",
    "    if event.event_type == \"text-generation\":\n",
    "        print(event.text, end=\"\")\n",
    "        chatbot_response += event.text\n",
    "    if event.event_type == \"stream-end\":\n",
    "        if event.response.citations:\n",
    "            print(\"\\n\\nCitations:\")\n",
    "            for citation in event.response.citations:\n",
    "                print(citation)\n",
    "        if event.response.documents:\n",
    "            print(\"\\nCited Documents\")\n",
    "            for document in event.response.documents:\n",
    "                print(document)"
   ]
  },
  {
   "cell_type": "markdown",
   "id": "51a1d4f8-7bb3-455c-9232-80376defb7a6",
   "metadata": {},
   "source": [
    "## Tool Use Modes\n",
    " * A good tool use API must be able to handle different scenarios, from simple to complex LLM tool calls. This translates to being able to call tools in different modes: single-step, multi-step, and parallel."
   ]
  },
  {
   "cell_type": "code",
   "execution_count": 22,
   "id": "b7add06e-c68f-4f8b-b0c4-11522ed99818",
   "metadata": {},
   "outputs": [],
   "source": [
    "# Single-Step\n",
    "# Single-Step, Parallel\n",
    "#  calling tools in parallel. This can be calling the same tool multiple times or different tools for any number of calls.\n",
    "\n",
    "\n",
    "# Multi-Step\n",
    "# output of one tool is needed as the input to the other tool.\n",
    "# Multi-Step, Parallel\n"
   ]
  },
  {
   "cell_type": "code",
   "execution_count": null,
   "id": "4d718bc1-dab0-4d27-aeb9-594627ffca26",
   "metadata": {},
   "outputs": [],
   "source": []
  }
 ],
 "metadata": {
  "kernelspec": {
   "display_name": "Python 3 (ipykernel)",
   "language": "python",
   "name": "python3"
  },
  "language_info": {
   "codemirror_mode": {
    "name": "ipython",
    "version": 3
   },
   "file_extension": ".py",
   "mimetype": "text/x-python",
   "name": "python",
   "nbconvert_exporter": "python",
   "pygments_lexer": "ipython3",
   "version": "3.10.18"
  }
 },
 "nbformat": 4,
 "nbformat_minor": 5
}
