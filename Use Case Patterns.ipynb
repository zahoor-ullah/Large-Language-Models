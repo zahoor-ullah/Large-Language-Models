{
 "cells": [
  {
   "cell_type": "markdown",
   "id": "81b4c42a-149f-443c-a8a4-df9a62e7c6d4",
   "metadata": {},
   "source": [
    "## **Use Case Patterns**"
   ]
  },
  {
   "cell_type": "code",
   "execution_count": 1,
   "id": "7fc09e44-3b5a-42be-b108-73884cd74066",
   "metadata": {},
   "outputs": [],
   "source": [
    "import cohere\n",
    "co = cohere.ClientV2(\"j3dnErL21HLrrwoaSskJsQpmAn2SxRc1JzJWg7yL\") # Get your free API key: https://dashboard.cohere.com/api-keys"
   ]
  },
  {
   "cell_type": "code",
   "execution_count": 38,
   "id": "2e21bf46-fada-4929-bcbb-8d86ae325003",
   "metadata": {},
   "outputs": [],
   "source": [
    "def generate_text(message, temperature):\n",
    "    # Generate the response by streaming it\n",
    "    response = co.chat_stream(model=\"command-a-03-2025\",\n",
    "                              messages=[{'role':'user', 'content': message}],\n",
    "                              temperature=temperature)\n",
    "\n",
    "    for event in response:\n",
    "        if event.type == \"content-delta\":\n",
    "            print(event.delta.message.content.text, end=\"\")"
   ]
  },
  {
   "cell_type": "code",
   "execution_count": 39,
   "id": "57cf0c1f-1497-4f4b-90be-ad40c2350d37",
   "metadata": {},
   "outputs": [],
   "source": [
    "\n",
    "product=\"\"\"The CO-1T is a wireless headphone product that uses Bluetooth technology to connect to your devices. \\\n",
    "It has a long battery life and can be quickly charged using the included USB cable. The headphone is \\\n",
    "lightweight and comfortable, ideal for long periods of use. It has a built-in microphone for making calls, \\\n",
    "and a button to control the volume. The CO-1T is a great choice for anyone looking for a wireless headphone \\\n",
    "product with great battery life.\"\"\"\n"
   ]
  },
  {
   "cell_type": "markdown",
   "id": "fbc15397-2891-46b0-b144-1191bd301536",
   "metadata": {},
   "source": [
    "### **Writting**"
   ]
  },
  {
   "cell_type": "code",
   "execution_count": 41,
   "id": "ad401d46-5044-4de6-96ad-568b6ed048d8",
   "metadata": {},
   "outputs": [
    {
     "name": "stdout",
     "output_type": "stream",
     "text": [
      "**Subject:** Introducing the CO-1T Wireless Headphones – Your Ultimate Audio Companion!  \n",
      "\n",
      "**Dear [Recipient's Name],**  \n",
      "\n",
      "We’re thrilled to announce the launch of our latest innovation in wireless audio – the **CO-1T Wireless Headphones**! Designed for comfort, performance, and convenience, the CO-1T is the perfect companion for your daily audio needs.  \n",
      "\n",
      "Here’s what makes the CO-1T stand out:  \n",
      "- **Bluetooth Connectivity**: Seamlessly connect to your devices for a truly wireless experience.  \n",
      "- **Long Battery Life**: Enjoy hours of uninterrupted listening, with quick charging via the included USB cable.  \n",
      "- **Lightweight & Comfortable**: Ideal for extended use, whether you’re working, commuting, or relaxing.  \n",
      "- **Built-in Microphone**: Make crystal-clear calls on the go.  \n",
      "- **Easy Controls**: Adjust volume and manage calls with a single button.  \n",
      "\n",
      "Ready to elevate your audio experience? **Shop the CO-1T Wireless Headphones today** and enjoy the freedom of wireless sound with unmatched convenience!  \n",
      "\n",
      "**[Shop Now]**  \n",
      "\n",
      "Have questions or need assistance? Our **live chat support** is here to help! Simply visit our website and connect with our team for instant answers.  \n",
      "\n",
      "Don’t miss out on this game-changing addition to your tech collection. Order your CO-1T Wireless Headphones now and experience audio like never before!  \n",
      "\n",
      "Best regards,  \n",
      "[Your Name]  \n",
      "[Your Position]  \n",
      "[Company Name]  \n",
      "[Contact Information]  \n",
      "[Website URL]  \n",
      "\n",
      "P.S. Follow us on social media for exclusive updates, promotions, and more!  \n",
      "\n",
      "**[Facebook] | [Instagram] | [Twitter]**"
     ]
    }
   ],
   "source": [
    "\n",
    "user_input =\"\"\"\n",
    "- announce product launch\n",
    "- create a call to action\n",
    "- mention live chat for support\n",
    "\"\"\"\n",
    "\n",
    "prompt = f\"\"\"{product}\n",
    "Create an email about the product above mentioning the following:\n",
    "{user_input}\n",
    "\"\"\"\n",
    "\n",
    "generate_text(prompt, temperature=0.5)"
   ]
  },
  {
   "cell_type": "markdown",
   "id": "9378ad1e-b1ab-4040-8a0c-6cb2a6ee9e63",
   "metadata": {},
   "source": [
    "### Question Answering (Closed)"
   ]
  },
  {
   "cell_type": "code",
   "execution_count": 42,
   "id": "d2ca01ec-064c-4790-b0b3-682decc119c9",
   "metadata": {},
   "outputs": [
    {
     "name": "stdout",
     "output_type": "stream",
     "text": [
      "When choosing wireless headphones, there are several key features to consider to ensure you get the best product for your needs. Here’s a comprehensive list of factors to evaluate:\n",
      "\n",
      "### 1. **Sound Quality**\n",
      "   - **Codec Support**: Look for headphones that support high-quality codecs like **AAC** (for iOS), **aptX** (for Android), **aptX HD**, **LDAC**, or **LHDC** for better audio quality.\n",
      "   - **Driver Size**: Larger drivers (e.g., 40mm or more) often deliver richer sound, but this isn’t always the case, as design and tuning also matter.\n",
      "   - **Frequency Response**: A wider range (e.g., 20Hz–20kHz) typically means better bass and treble reproduction.\n",
      "\n",
      "### 2. **Comfort and Fit**\n",
      "   - **Design**: Choose between **over-ear** (more comfortable for long use), **on-ear**, or **in-ear** (more portable).\n",
      "   - **Ear Cushions/Tips**: Look for soft, breathable materials like memory foam or silicone for extended comfort.\n",
      "   - **Adjustability**: Headbands and ear cups should be adjustable to fit different head sizes.\n",
      "   - **Weight**: Lighter headphones are more comfortable for prolonged use.\n",
      "\n",
      "### 3. **Battery Life**\n",
      "   - **Playback Time**: Aim for at least **20–30 hours** of battery life on a single charge.\n",
      "   - **Fast Charging**: Some models offer quick charging (e.g., 10 minutes for 2–3 hours of playtime).\n",
      "   - **Charging Port**: USB-C is more modern and faster than micro-USB.\n",
      "\n",
      "### 4. **Connectivity**\n",
      "   - **Bluetooth Version**: **Bluetooth 5.0** or higher ensures better range, stability, and efficiency.\n",
      "   - **Multi-Device Pairing**: Useful if you switch between devices frequently.\n",
      "   - **Range**: Look for a range of at least **10 meters (33 feet)** without obstructions.\n",
      "\n",
      "### 5. **Noise Cancellation**\n",
      "   - **Active Noise Cancellation (ANC)**: Reduces ambient noise, ideal for travel or noisy environments.\n",
      "   - **Transparency Mode**: Allows you to hear your surroundings without removing the headphones.\n",
      "\n",
      "### 6. **Microphone Quality**\n",
      "   - **Call Clarity**: Important if you use headphones for calls. Look for features like noise reduction or multiple microphones.\n",
      "   - **Voice Assistant Support**: Compatibility with Siri, Google Assistant, or Alexa can be convenient.\n",
      "\n",
      "### 7. **Durability and Build Quality**\n",
      "   - **Materials**: Premium materials like metal or high-quality plastic ensure longevity.\n",
      "   - **Water/Sweat Resistance**: Look for an **IPX4** rating or higher if you plan to use them during workouts.\n",
      "\n",
      "### 8. **Controls and Ease of Use**\n",
      "   - **Physical Buttons/Touch Controls**: Choose what feels more intuitive for you.\n",
      "   - **App Support**: Some headphones offer companion apps for customization (e.g., EQ settings, firmware updates).\n",
      "\n",
      "### 9. **Portability**\n",
      "   - **Foldable Design**: Makes headphones easier to carry.\n",
      "   - **Carrying Case**: Included cases protect headphones during travel.\n",
      "\n",
      "### 10. **Price and Brand Reputation**\n",
      "   - **Budget**: Determine your price range and look for the best features within it.\n",
      "   - **Brand Reliability**: Established brands often offer better build quality, warranty, and customer support.\n",
      "\n",
      "### 11. **Latency**\n",
      "   - **Low Latency**: Important for gaming or video watching to ensure audio syncs with visuals. Look for gaming-specific headphones or those with low-latency modes.\n",
      "\n",
      "### 12. **Compatibility**\n",
      "   - **Device Compatibility**: Ensure the headphones work seamlessly with your devices (e.g., iOS, Android, PC).\n",
      "\n",
      "### 13. **Warranty and Support**\n",
      "   - **Warranty Period**: Longer warranties (e.g., 1–2 years) provide peace of mind.\n",
      "   - **Customer Support**: Check reviews for the brand’s after-sales service.\n",
      "\n",
      "### Popular Brands to Consider:\n",
      "- **Premium**: Sony, Bose, Sennheiser, Apple (AirPods Max)\n",
      "- **Mid-Range**: JBL, Audio-Technica, Anker Soundcore, Razer\n",
      "- **Budget**: Skullcandy, TaoTronics, Mpow\n",
      "\n",
      "By prioritizing the features that matter most to you, you can find wireless headphones that fit your lifestyle and preferences."
     ]
    }
   ],
   "source": [
    "user_input = \"What features should I consider when choosing a wireles headphone\"\n",
    "prompt = user_input\n",
    "generate_text(prompt,temperature=0.5)"
   ]
  },
  {
   "cell_type": "markdown",
   "id": "47f546ce-a58b-4815-96da-1e11d6060b3c",
   "metadata": {},
   "source": [
    "### Question Answering (Open)"
   ]
  },
  {
   "cell_type": "code",
   "execution_count": 43,
   "id": "90fee21b-2a3a-4f87-8c0f-ee8d45cd4849",
   "metadata": {},
   "outputs": [
    {
     "name": "stdout",
     "output_type": "stream",
     "text": [
      "Based on the context provided, you control the sound levels on the CO-1T wireless headphones using the **built-in button** specifically designed for volume control. This button allows you to adjust the volume directly on the headphones without needing to use your connected device."
     ]
    }
   ],
   "source": [
    "user_input =\"How do I control the sound levels\"\n",
    "\n",
    "prompt = f\"\"\"{product}\n",
    "Answer this question based on the context provided above: {user_input}\"\"\"\n",
    "\n",
    "generate_text(prompt, temperature=0)"
   ]
  },
  {
   "cell_type": "markdown",
   "id": "ab269fab-1a3d-4e0c-ae7b-4750a9e87951",
   "metadata": {},
   "source": [
    "#### Brainstorming"
   ]
  },
  {
   "cell_type": "code",
   "execution_count": 44,
   "id": "b382847b-b5cc-4702-9cc4-ec9db7d83a99",
   "metadata": {},
   "outputs": [
    {
     "name": "stdout",
     "output_type": "stream",
     "text": [
      "Here’s a bulleted list of possible troubleshooting steps to help the customer resolve the Bluetooth connection issue with the CO-1T wireless headphones:\n",
      "\n",
      "- **Ensure the Headphones Are Charged**: Verify that the CO-1T headphones have sufficient battery life. A low battery can affect Bluetooth functionality.  \n",
      "- **Turn Bluetooth On**: Confirm that Bluetooth is enabled on the device (phone, tablet, or computer) the customer is trying to connect to.  \n",
      "- **Pairing Mode**: Ensure the headphones are in pairing mode. Typically, this involves pressing and holding the power button until the LED indicator flashes (refer to the user manual for specific instructions).  \n",
      "- **Forget and Re-Pair**: On the device, \"forget\" the CO-1T headphones in the Bluetooth settings, then restart the pairing process.  \n",
      "- **Restart Devices**: Restart both the headphones and the device being connected to clear any temporary glitches.  \n",
      "- **Check Compatibility**: Ensure the device supports Bluetooth and is compatible with the CO-1T headphones.  \n",
      "- **Move Closer to the Device**: Ensure the headphones are within the Bluetooth range (typically 30 feet or 10 meters) of the device.  \n",
      "- **Remove Interference**: Move away from other electronic devices or Wi-Fi routers that may cause interference.  \n",
      "- **Update Firmware**: Check if the headphones or the device need a firmware or software update.  \n",
      "- **Reset the Headphones**: Perform a factory reset on the CO-1T headphones (refer to the user manual for instructions) and try pairing again.  \n",
      "- **Try Another Device**: Test the headphones with a different device to determine if the issue is specific to the original device.  \n",
      "- **Check for Obstructions**: Ensure there are no physical obstructions between the headphones and the device.  \n",
      "\n",
      "If the issue persists after trying these steps, advise the customer to contact customer support for further assistance."
     ]
    }
   ],
   "source": [
    "user_input =\"I can't get the Bluetooth connection working\"\n",
    "prompt = f\"\"\"{product}\n",
    "A customer provided the following complaint about this product: {user_input}.\n",
    "Provide a bulleted list of possible ways to troubleshoot so we can advise the customer accordingly.\n",
    "\"\"\"\n",
    "\n",
    "generate_text(prompt, temperature=0.1)"
   ]
  },
  {
   "cell_type": "markdown",
   "id": "d75e320b-b75f-4881-8668-91523bd22aac",
   "metadata": {},
   "source": [
    "### Transforming\n",
    "*  first thing that comes to mind when thinking about generative models is their ability to write a fresh piece of text, but one aspect that is rather understated is their ability to synthesize an existing piece of text."
   ]
  },
  {
   "cell_type": "code",
   "execution_count": 45,
   "id": "4b156f73-f306-4c94-956f-67ec84a7d2c3",
   "metadata": {},
   "outputs": [
    {
     "name": "stdout",
     "output_type": "stream",
     "text": [
      "**FAQ for the CO-1T Wireless Headphones**  \n",
      "\n",
      "1. **What technology does the CO-1T use to connect to devices?**  \n",
      "   The CO-1T uses Bluetooth technology to wirelessly connect to your devices.  \n",
      "\n",
      "2. **How long does the battery last on the CO-1T?**  \n",
      "   The CO-1T has a long battery life, though the exact duration may vary depending on usage.  \n",
      "\n",
      "3. **How do I charge the CO-1T, and is charging fast?**  \n",
      "   The CO-1T can be quickly charged using the included USB cable.  \n",
      "\n",
      "4. **Is the CO-1T comfortable for extended use?**  \n",
      "   Yes, the CO-1T is lightweight and designed for comfort, making it ideal for long periods of use.  \n",
      "\n",
      "5. **Does the CO-1T have a built-in microphone?**  \n",
      "   Yes, the CO-1T features a built-in microphone for making calls.  \n",
      "\n",
      "6. **How do I control the volume on the CO-1T?**  \n",
      "   The CO-1T has a dedicated button for easy volume control.  \n",
      "\n",
      "7. **Is the CO-1T suitable for someone looking for wireless headphones with great battery life?**  \n",
      "   Absolutely! The CO-1T is an excellent choice for anyone seeking wireless headphones with impressive battery performance.  \n",
      "\n",
      "8. **What comes included with the CO-1T?**  \n",
      "   The CO-1T comes with a USB charging cable.  \n",
      "\n",
      "9. **Can I use the CO-1T for activities like working out or traveling?**  \n",
      "   Yes, its lightweight design and wireless connectivity make it suitable for various activities, including working out and traveling.  \n",
      "\n",
      "10. **Does the CO-1T support multiple device connections?**  \n",
      "    The FAQ does not specify this, but typically Bluetooth headphones can connect to multiple devices, though they may only play audio from one at a time. Check the user manual for specifics."
     ]
    }
   ],
   "source": [
    "prompt =f\"\"\"Turn the following product description into a list of frequently asked questions (FAQ).\n",
    "\n",
    "Product description: {product}\n",
    "\"\"\"\n",
    "generate_text(prompt, temperature=0)"
   ]
  },
  {
   "cell_type": "markdown",
   "id": "2908293b-a6bf-4252-830d-a5e515815109",
   "metadata": {},
   "source": [
    "### Summarizing\n",
    "* One popular use case for synthesizing text is summarization. Here we take a long passage of text and summarize it to its essence. "
   ]
  },
  {
   "cell_type": "code",
   "execution_count": 46,
   "id": "f19e1417-53e3-4de1-9482-5d2a166bbca2",
   "metadata": {},
   "outputs": [
    {
     "name": "stdout",
     "output_type": "stream",
     "text": [
      "The CO-1T wireless headphones receive mixed reviews from customers. Positive aspects include a sleek, modern design, excellent sound quality, and comfort during use. The built-in microphone is convenient for calls, though one reviewer noted poor microphone quality, resulting in distorted voice during calls. However, a significant drawback is the disappointing battery life, with one user reporting only a few hours of use before needing a recharge. Overall, while some users highly recommend the CO-1T for its sound and design, others are hesitant due to battery life and microphone issues, making it a mixed bag for potential buyers."
     ]
    }
   ],
   "source": [
    "user_input =\"\"\"Customer reviews of the CO-1T wireless headphones:\n",
    "\n",
    "\"The CO-1T is a great pair of headphones! The design is sleek and modern, and the headphones are \\\n",
    "very comfortable to wear. The sound quality is excellent, and I can hear every detail of my music. \\\n",
    "The built-in microphone means I can make calls without having to take my phone out of my pocket. I \\\n",
    "highly recommend the CO-1T to anyone looking for a great pair of wireless headphones!\"\n",
    "\n",
    "\"I'm very disappointed with the CO-1T. The design is nice, but the battery life is terrible. I can \\\n",
    "only use them for a few hours before they need to be recharged. This is very inconvenient, and I'm \\\n",
    "not sure if I can recommend them to anyone.\"\n",
    "\n",
    "\"The CO-1T is a mixed bag. The speaker quality is great, but the built-in microphone's quality is \\\n",
    "poor. I can hear every detail of my music, but my voice sounds distorted when I make calls. The \\\n",
    "design is nice, and the headphones are comfortable to wear, but the battery life is only average. \\\n",
    "I'm not sure if I can recommend them to anyone.\"\n",
    "\"\"\"\n",
    "\n",
    "\n",
    "\n",
    "prompt = f\"\"\"Summarize the following.\n",
    "\n",
    "{user_input}\n",
    "\"\"\"\n",
    "\n",
    "generate_text(prompt, temperature=0)"
   ]
  },
  {
   "cell_type": "code",
   "execution_count": 47,
   "id": "4f577d5d-8c0a-48a7-b087-f2a392ca46fe",
   "metadata": {},
   "outputs": [
    {
     "name": "stdout",
     "output_type": "stream",
     "text": [
      "**CO-1T Wireless Headphones: Your Ultimate College Companion**  \n",
      "\n",
      "Stay connected, focused, and entertained with the **CO-1T Wireless Headphones**, designed with college students in mind. Whether you’re cramming for finals, jamming to your study playlist, or taking Zoom calls between classes, these Bluetooth headphones have got you covered.  \n",
      "\n",
      "**Why College Students Love the CO-1T:**  \n",
      "- **Long Battery Life:** No more mid-study session interruptions—the CO-1T keeps up with your busy schedule, offering hours of playtime on a single charge.  \n",
      "- **Quick Charging:** Low on battery? No problem. The included USB cable lets you power up fast, so you’re ready for that last-minute group project or late-night cram session.  \n",
      "- **Lightweight & Comfortable:** Designed for all-day wear, these headphones are perfect for long library sessions, walks to class, or chilling in your dorm.  \n",
      "- **Built-In Microphone:** Seamlessly switch from listening to talking with the built-in mic—ideal for virtual classes, group calls, or catching up with friends.  \n",
      "- **Easy Volume Control:** Adjust the volume with a single button, so you can stay focused without fumbling with your phone.  \n",
      "\n",
      "The **CO-1T** is the perfect blend of functionality and convenience, making it the go-to wireless headphone for college life. Stay connected, stay productive, and stay in your zone—all without breaking the bank. Upgrade your college experience today!"
     ]
    }
   ],
   "source": [
    "### Rewriting\n",
    "user_input = \"college students\"\n",
    "\n",
    "prompt = f\"\"\"Create a version of this product description that's tailored towards {user_input}.\n",
    "\n",
    "{product}\"\"\"\n",
    "\n",
    "generate_text(prompt, temperature=0.5)"
   ]
  },
  {
   "cell_type": "code",
   "execution_count": 49,
   "id": "33b0193f-f382-499a-b0c1-01d7d32612f1",
   "metadata": {},
   "outputs": [
    {
     "name": "stdout",
     "output_type": "stream",
     "text": [
      "Here are the extracted details:\n",
      "\n",
      "* **Product:** CO-1T\n",
      "* **Refund Reason:** Poor battery life\n",
      "\n",
      "* **Pick-up Address:** 171 John Street, Toronto ON, M5T 1X2"
     ]
    }
   ],
   "source": [
    "# Extracting\n",
    "\n",
    "user_input =\"\"\"I am writing to request a refund for a recent CO-1T purchase I made on your platform. \\\n",
    "Unfortunately, the produce has not met my expectations due to its poor battery life. \\\n",
    "Please arrange for the pick-up at this address: to 171 John Street, Toronto ON, M5T 1X2.\"\"\"\n",
    "\n",
    "prompt =f\"\"\"Extract the product, refund reason and pick-up address from this email:\n",
    "\n",
    "{user_input}\n",
    "\"\"\"\n",
    "\n",
    "generate_text(prompt, temperature=0)"
   ]
  },
  {
   "cell_type": "markdown",
   "id": "eeff699a-13f4-44f7-831c-b0f862183cbc",
   "metadata": {},
   "source": [
    "### Classifying"
   ]
  },
  {
   "cell_type": "code",
   "execution_count": 53,
   "id": "32de20f5-1905-49b7-94db-bbfcee1632df",
   "metadata": {},
   "outputs": [
    {
     "name": "stdout",
     "output_type": "stream",
     "text": [
      "The message \"The battery drains fast\" can be classified as **Support**."
     ]
    }
   ],
   "source": [
    "# Chat endpoint\n",
    "user_input =\"The battery drains fast\"\n",
    "\n",
    "prompt =f\"\"\"The following is a user message to a customer support agent.\n",
    "Classify the message into one of the following categories: Order, Support, or Refunds.\n",
    "\n",
    "{user_input}\n",
    "\"\"\"\n",
    "\n",
    "generate_text(prompt, temperature=0)"
   ]
  },
  {
   "cell_type": "code",
   "execution_count": null,
   "id": "b3afc1b8-6d59-4838-be5c-2f2984f0da3e",
   "metadata": {},
   "outputs": [],
   "source": []
  },
  {
   "cell_type": "code",
   "execution_count": null,
   "id": "33302b28-892a-426d-82d5-149e73cee7d3",
   "metadata": {},
   "outputs": [],
   "source": []
  }
 ],
 "metadata": {
  "kernelspec": {
   "display_name": "Python 3 (ipykernel)",
   "language": "python",
   "name": "python3"
  },
  "language_info": {
   "codemirror_mode": {
    "name": "ipython",
    "version": 3
   },
   "file_extension": ".py",
   "mimetype": "text/x-python",
   "name": "python",
   "nbconvert_exporter": "python",
   "pygments_lexer": "ipython3",
   "version": "3.10.18"
  }
 },
 "nbformat": 4,
 "nbformat_minor": 5
}
