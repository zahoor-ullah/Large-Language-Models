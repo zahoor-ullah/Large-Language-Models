{
 "cells": [
  {
   "cell_type": "markdown",
   "id": "7393ce94-c099-4e1e-9250-41b870c91ed4",
   "metadata": {},
   "source": [
    "### Step-by-Step Guide\n",
    " * how to use connectors at scale, such as connecting to multiple datastores, working with large volumes of documents, and handling long documents. Enterprises need a RAG system that can efficiently handle vast amounts of data from diverse sources,"
   ]
  },
  {
   "cell_type": "code",
   "execution_count": 1,
   "id": "ab9dfe16-cbfb-45d0-bc2f-9972f84c175a",
   "metadata": {},
   "outputs": [],
   "source": [
    "import cohere\n",
    "from cohere import ChatConnector\n",
    "import uuid\n",
    "from typing import List\n",
    "\n",
    "co = cohere.Client(\"j3dnErL21HLrrwoaSskJsQpmAn2SxRc1JzJWg7yL\")"
   ]
  },
  {
   "cell_type": "code",
   "execution_count": 3,
   "id": "3c3e4ef6-5538-417f-933d-3f4e85e5816f",
   "metadata": {},
   "outputs": [],
   "source": [
    "# Build and Deploy the Connector\n",
    "# \"Enable Google Drive Access\""
   ]
  },
  {
   "cell_type": "code",
   "execution_count": 4,
   "id": "59178d33-63ff-4865-942f-dbdbc858685c",
   "metadata": {},
   "outputs": [
    {
     "data": {
      "image/png": "[encoded data removed]",
      "text/plain": [
       "<Figure size 640x480 with 1 Axes>"
      ]
     },
     "metadata": {},
     "output_type": "display_data"
    }
   ],
   "source": [
    "import matplotlib.pyplot as plt\n",
    "import matplotlib.image as mpimg\n",
    "\n",
    "# Read the image\n",
    "img = mpimg.imread(\"rag-workflow-5.png\")\n",
    "\n",
    "# Show the image\n",
    "plt.imshow(img)\n",
    "plt.axis(\"off\")  # Hide axis\n",
    "plt.show()\n"
   ]
  },
  {
   "cell_type": "code",
   "execution_count": 5,
   "id": "67ea7e0f-ec30-424f-9e31-edecf196146c",
   "metadata": {},
   "outputs": [],
   "source": [
    "# Using Multiple Connectors"
   ]
  },
  {
   "cell_type": "code",
   "execution_count": 6,
   "id": "16171246-ac62-4a63-b959-4606c160025c",
   "metadata": {},
   "outputs": [],
   "source": [
    "class Chatbot:\n",
    "    def __init__(self, connectors: List[str]):\n",
    "        \"\"\"\n",
    "        Initializes an instance of the Chatbot class.\n",
    "\n",
    "        \"\"\"\n",
    "        self.conversation_id = str(uuid.uuid4())\n",
    "        self.connectors = [ChatConnector(id=connector) for connector in connectors]\n",
    "\n",
    "    def run(self):\n",
    "        \"\"\"\n",
    "        Runs the chatbot application.\n",
    "\n",
    "        \"\"\"\n",
    "        while True:\n",
    "            # Get the user message\n",
    "            message = input(\"User: \")\n",
    "\n",
    "            # Typing \"quit\" ends the conversation\n",
    "            if message.lower() == \"quit\":\n",
    "                print(\"Ending chat.\")\n",
    "                break\n",
    "            else:                       # If using Google Colab, remove this line to avoid printing the same thing twice\n",
    "              print(f\"User: {message}\") # If using Google Colab, remove this line to avoid printing the same thing twice\n",
    "\n",
    "            # Generate response\n",
    "            response = co.chat_stream(\n",
    "                    message=message,\n",
    "                    model=\"command-a-03-2025\",\n",
    "                    conversation_id=self.conversation_id,\n",
    "                    connectors=self.connectors,\n",
    "            )\n",
    "\n",
    "            # Print the chatbot response, citations, and documents\n",
    "            print(\"\\nChatbot:\")\n",
    "            citations = []\n",
    "            cited_documents = []\n",
    "\n",
    "            # Display response\n",
    "            for event in response:\n",
    "                if event.event_type == \"text-generation\":\n",
    "                    print(event.text, end=\"\")\n",
    "                elif event.event_type == \"citation-generation\":\n",
    "                    citations.extend(event.citations)\n",
    "                elif event.event_type == \"stream-end\":\n",
    "                    cited_documents = event.response.documents\n",
    "\n",
    "            # Display citations and source documents\n",
    "            if citations:\n",
    "              print(\"\\n\\nCITATIONS:\")\n",
    "              for citation in citations:\n",
    "                print(citation)\n",
    "\n",
    "              print(\"\\nDOCUMENTS:\")\n",
    "              for document in cited_documents:\n",
    "                print({'id': document['id'],\n",
    "                      'text': document.get('text', document.get('snippet', ''))[:50] + '...'}) # \"text\" for Gdrive, \"snippet\" for web search\n",
    "\n",
    "            print(f\"\\n{'-'*100}\\n\")"
   ]
  },
  {
   "cell_type": "markdown",
   "id": "6ebff8af-2d27-4668-9f6d-ff97cc45ca72",
   "metadata": {},
   "source": [
    "### Run the chatbot"
   ]
  },
  {
   "cell_type": "code",
   "execution_count": null,
   "id": "508cce08-28fd-484a-b213-e50b0dd7218b",
   "metadata": {},
   "outputs": [
    {
     "name": "stdin",
     "output_type": "stream",
     "text": [
      "User:  What is chain of thought prompting\n"
     ]
    },
    {
     "name": "stdout",
     "output_type": "stream",
     "text": [
      "User: What is chain of thought prompting\n",
      "\n",
      "Chatbot:\n",
      "Chain of Thought Prompting (CoT) is a technique in artificial intelligence that enhances the reasoning capabilities of large language models (LLMs) by breaking down complex tasks into a sequence of logical steps. It involves structuring the input prompt in a way that mimics human reasoning, thereby improving the model's performance on tasks requiring logic, calculation, and decision-making.\n",
      "\n",
      "By encouraging step-by-step thinking, CoT prompting allows models to perform complex reasoning tasks effectively without needing additional training data. This method is particularly beneficial for large models, which exhibit improved reasoning capacities when following these structured reasoning prompts.\n",
      "\n",
      "To construct a CoT prompt, a user typically appends an instruction such as \"Describe your reasoning in steps\" or \"Explain your answer step by step\" to the end of their query. This technique not only generates a result but also details the series of intermediate steps that led to that answer, thereby reducing the likelihood of reasoning failures.\n",
      "\n",
      "CITATIONS:\n",
      "start=27 end=32 text='(CoT)' document_ids=['internet_search_0_1_0:0', 'internet_search_9_1_0:0', 'internet_search_16_1_0:1', 'internet_search_4_1_0:0'] type='TEXT_CONTENT'\n",
      "start=51 end=74 text='artificial intelligence' document_ids=['internet_search_4_1_0:0'] type='TEXT_CONTENT'\n",
      "start=80 end=115 text='enhances the reasoning capabilities' document_ids=['internet_search_14_1_0:0', 'internet_search_0_1_0:0', 'internet_search_9_1_0:0', 'internet_search_16_1_0:1', 'internet_search_4_1_0:0'] type='TEXT_CONTENT'\n",
      "start=119 end=140 text='large language models' document_ids=['internet_search_14_1_0:0', 'internet_search_0_1_0:0', 'internet_search_9_1_0:0', 'internet_search_16_1_0:1', 'internet_search_4_1_0:0'] type='TEXT_CONTENT'\n",
      "start=141 end=147 text='(LLMs)' document_ids=['internet_search_14_1_0:0', 'internet_search_0_1_0:0', 'internet_search_9_1_0:0', 'internet_search_16_1_0:1', 'internet_search_4_1_0:0'] type='TEXT_CONTENT'\n",
      "start=151 end=178 text='breaking down complex tasks' document_ids=['internet_search_14_1_0:0', 'internet_search_0_1_0:0', 'internet_search_9_1_0:0', 'internet_search_4_1_0:0'] type='TEXT_CONTENT'\n",
      "start=186 end=212 text='sequence of logical steps.' document_ids=['internet_search_14_1_0:0', 'internet_search_0_1_0:0', 'internet_search_9_1_0:0', 'internet_search_4_1_0:0'] type='TEXT_CONTENT'\n",
      "start=225 end=253 text='structuring the input prompt' document_ids=['internet_search_0_1_0:0'] type='TEXT_CONTENT'\n",
      "start=268 end=290 text='mimics human reasoning' document_ids=['internet_search_0_1_0:0', 'internet_search_4_1_0:0'] type='TEXT_CONTENT'\n",
      "start=300 end=333 text=\"improving the model's performance\" document_ids=['internet_search_14_1_0:0', 'internet_search_0_1_0:0', 'internet_search_9_1_0:0'] type='TEXT_CONTENT'\n",
      "start=353 end=393 text='logic, calculation, and decision-making.' document_ids=['internet_search_0_1_0:0'] type='TEXT_CONTENT'\n",
      "start=398 end=431 text='encouraging step-by-step thinking' document_ids=['internet_search_14_1_0:0', 'internet_search_0_1_0:0', 'internet_search_9_1_0:0', 'internet_search_4_1_0:0'] type='TEXT_CONTENT'\n",
      "start=464 end=507 text='perform complex reasoning tasks effectively' document_ids=['internet_search_14_1_0:0', 'internet_search_9_1_0:0', 'internet_search_4_1_0:0'] type='TEXT_CONTENT'\n",
      "start=508 end=549 text='without needing additional training data.' document_ids=['internet_search_9_1_0:0'] type='TEXT_CONTENT'\n",
      "start=593 end=605 text='large models' document_ids=['internet_search_9_1_0:0'] type='TEXT_CONTENT'\n",
      "start=621 end=650 text='improved reasoning capacities' document_ids=['internet_search_9_1_0:0'] type='TEXT_CONTENT'\n",
      "start=672 end=701 text='structured reasoning prompts.' document_ids=['internet_search_9_1_0:0'] type='TEXT_CONTENT'\n",
      "start=778 end=812 text='\"Describe your reasoning in steps\"' document_ids=['internet_search_0_1_0:0'] type='TEXT_CONTENT'\n",
      "start=816 end=850 text='\"Explain your answer step by step\"' document_ids=['internet_search_0_1_0:0'] type='TEXT_CONTENT'\n",
      "start=942 end=970 text='series of intermediate steps' document_ids=['internet_search_0_1_0:0'] type='TEXT_CONTENT'\n",
      "start=1004 end=1050 text='reducing the likelihood of reasoning failures.' document_ids=['internet_search_14_1_0:0'] type='TEXT_CONTENT'\n",
      "\n",
      "DOCUMENTS:\n",
      "{'id': 'internet_search_0_1_0:0', 'text': 'Chain-of-thought (CoT) prompting is a prompt engin...'}\n",
      "{'id': 'internet_search_9_1_0:0', 'text': 'Chain-of-Thought Prompting is a powerful method fo...'}\n",
      "{'id': 'internet_search_16_1_0:1', 'text': \" In this blog, we'll explore everything there is t...\"}\n",
      "{'id': 'internet_search_4_1_0:0', 'text': 'Chain of Thought Prompting (CoT) is a technique in...'}\n",
      "{'id': 'internet_search_14_1_0:0', 'text': 'If the prompt is long and complex, the model may n...'}\n",
      "\n",
      "----------------------------------------------------------------------------------------------------\n",
      "\n"
     ]
    }
   ],
   "source": [
    "# Define connectors\n",
    "connectors = [\"web-search\"]\n",
    "\n",
    "\n",
    "# Create an instance of the Chatbot class\n",
    "chatbot = Chatbot(connectors)\n",
    "\n",
    "# Run the chatbot\n",
    "chatbot.run()"
   ]
  },
  {
   "cell_type": "markdown",
   "id": "684a7f33-106a-4246-8a78-54ff481d7b80",
   "metadata": {},
   "source": [
    "### Handling Long and Large Volume of Documents"
   ]
  },
  {
   "cell_type": "code",
   "execution_count": null,
   "id": "608c5da4-e004-469a-aa6d-b8b4fd06547e",
   "metadata": {},
   "outputs": [],
   "source": []
  }
 ],
 "metadata": {
  "kernelspec": {
   "display_name": "Python 3 (ipykernel)",
   "language": "python",
   "name": "python3"
  },
  "language_info": {
   "codemirror_mode": {
    "name": "ipython",
    "version": 3
   },
   "file_extension": ".py",
   "mimetype": "text/x-python",
   "name": "python",
   "nbconvert_exporter": "python",
   "pygments_lexer": "ipython3",
   "version": "3.10.18"
  }
 },
 "nbformat": 4,
 "nbformat_minor": 5
}
